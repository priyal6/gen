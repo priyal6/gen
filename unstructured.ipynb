{
  "nbformat": 4,
  "nbformat_minor": 0,
  "metadata": {
    "colab": {
      "provenance": [],
      "gpuType": "T4",
      "authorship_tag": "ABX9TyPddThKBAImf3KA+Z4pLoup",
      "include_colab_link": true
    },
    "kernelspec": {
      "name": "python3",
      "display_name": "Python 3"
    },
    "language_info": {
      "name": "python"
    }
  },
  "cells": [
    {
      "cell_type": "markdown",
      "metadata": {
        "id": "view-in-github",
        "colab_type": "text"
      },
      "source": [
        "<a href=\"https://colab.research.google.com/github/priyal6/gen/blob/main/unstructured.ipynb\" target=\"_parent\"><img src=\"https://colab.research.google.com/assets/colab-badge.svg\" alt=\"Open In Colab\"/></a>"
      ]
    },
    {
      "cell_type": "code",
      "execution_count": 1,
      "metadata": {
        "colab": {
          "base_uri": "https://localhost:8080/"
        },
        "id": "oxfFTV7rQ6TV",
        "outputId": "734aee8f-3896-422f-8a2d-a2db78e167b3"
      },
      "outputs": [
        {
          "output_type": "stream",
          "name": "stdout",
          "text": [
            "Requirement already satisfied: pillow in /usr/local/lib/python3.12/dist-packages (11.3.0)\n",
            "Requirement already satisfied: pydantic in /usr/local/lib/python3.12/dist-packages (2.11.10)\n",
            "Requirement already satisfied: lxml in /usr/local/lib/python3.12/dist-packages (5.4.0)\n",
            "Requirement already satisfied: matplotlib in /usr/local/lib/python3.12/dist-packages (3.10.0)\n",
            "Requirement already satisfied: unstructured[all-docs] in /usr/local/lib/python3.12/dist-packages (0.18.15)\n",
            "Requirement already satisfied: charset-normalizer in /usr/local/lib/python3.12/dist-packages (from unstructured[all-docs]) (3.4.4)\n",
            "Requirement already satisfied: filetype in /usr/local/lib/python3.12/dist-packages (from unstructured[all-docs]) (1.2.0)\n",
            "Requirement already satisfied: python-magic in /usr/local/lib/python3.12/dist-packages (from unstructured[all-docs]) (0.4.27)\n",
            "Requirement already satisfied: nltk in /usr/local/lib/python3.12/dist-packages (from unstructured[all-docs]) (3.9.1)\n",
            "Requirement already satisfied: requests in /usr/local/lib/python3.12/dist-packages (from unstructured[all-docs]) (2.32.4)\n",
            "Requirement already satisfied: beautifulsoup4 in /usr/local/lib/python3.12/dist-packages (from unstructured[all-docs]) (4.13.5)\n",
            "Requirement already satisfied: emoji in /usr/local/lib/python3.12/dist-packages (from unstructured[all-docs]) (2.15.0)\n",
            "Requirement already satisfied: dataclasses-json in /usr/local/lib/python3.12/dist-packages (from unstructured[all-docs]) (0.6.7)\n",
            "Requirement already satisfied: python-iso639 in /usr/local/lib/python3.12/dist-packages (from unstructured[all-docs]) (2025.2.18)\n",
            "Requirement already satisfied: langdetect in /usr/local/lib/python3.12/dist-packages (from unstructured[all-docs]) (1.0.9)\n",
            "Requirement already satisfied: numpy in /usr/local/lib/python3.12/dist-packages (from unstructured[all-docs]) (2.0.2)\n",
            "Requirement already satisfied: rapidfuzz in /usr/local/lib/python3.12/dist-packages (from unstructured[all-docs]) (3.14.1)\n",
            "Requirement already satisfied: backoff in /usr/local/lib/python3.12/dist-packages (from unstructured[all-docs]) (2.2.1)\n",
            "Requirement already satisfied: typing-extensions in /usr/local/lib/python3.12/dist-packages (from unstructured[all-docs]) (4.15.0)\n",
            "Requirement already satisfied: unstructured-client in /usr/local/lib/python3.12/dist-packages (from unstructured[all-docs]) (0.42.3)\n",
            "Requirement already satisfied: wrapt in /usr/local/lib/python3.12/dist-packages (from unstructured[all-docs]) (1.17.3)\n",
            "Requirement already satisfied: tqdm in /usr/local/lib/python3.12/dist-packages (from unstructured[all-docs]) (4.67.1)\n",
            "Requirement already satisfied: psutil in /usr/local/lib/python3.12/dist-packages (from unstructured[all-docs]) (5.9.5)\n",
            "Requirement already satisfied: python-oxmsg in /usr/local/lib/python3.12/dist-packages (from unstructured[all-docs]) (0.0.2)\n",
            "Requirement already satisfied: html5lib in /usr/local/lib/python3.12/dist-packages (from unstructured[all-docs]) (1.1)\n",
            "Requirement already satisfied: networkx in /usr/local/lib/python3.12/dist-packages (from unstructured[all-docs]) (3.5)\n",
            "Requirement already satisfied: pypandoc in /usr/local/lib/python3.12/dist-packages (from unstructured[all-docs]) (1.15)\n",
            "Requirement already satisfied: effdet in /usr/local/lib/python3.12/dist-packages (from unstructured[all-docs]) (0.4.1)\n",
            "Requirement already satisfied: unstructured.pytesseract>=0.3.12 in /usr/local/lib/python3.12/dist-packages (from unstructured[all-docs]) (0.3.15)\n",
            "Requirement already satisfied: xlrd in /usr/local/lib/python3.12/dist-packages (from unstructured[all-docs]) (2.0.2)\n",
            "Requirement already satisfied: markdown in /usr/local/lib/python3.12/dist-packages (from unstructured[all-docs]) (3.9)\n",
            "Requirement already satisfied: msoffcrypto-tool in /usr/local/lib/python3.12/dist-packages (from unstructured[all-docs]) (5.4.2)\n",
            "Requirement already satisfied: python-pptx>=1.0.1 in /usr/local/lib/python3.12/dist-packages (from unstructured[all-docs]) (1.0.2)\n",
            "Requirement already satisfied: pi-heif in /usr/local/lib/python3.12/dist-packages (from unstructured[all-docs]) (1.1.1)\n",
            "Requirement already satisfied: pdf2image in /usr/local/lib/python3.12/dist-packages (from unstructured[all-docs]) (1.17.0)\n",
            "Requirement already satisfied: pandas in /usr/local/lib/python3.12/dist-packages (from unstructured[all-docs]) (2.2.2)\n",
            "Requirement already satisfied: pypdf in /usr/local/lib/python3.12/dist-packages (from unstructured[all-docs]) (6.1.3)\n",
            "Requirement already satisfied: google-cloud-vision in /usr/local/lib/python3.12/dist-packages (from unstructured[all-docs]) (3.11.0)\n",
            "Requirement already satisfied: onnx>=1.17.0 in /usr/local/lib/python3.12/dist-packages (from unstructured[all-docs]) (1.19.1)\n",
            "Requirement already satisfied: python-docx>=1.1.2 in /usr/local/lib/python3.12/dist-packages (from unstructured[all-docs]) (1.2.0)\n",
            "Requirement already satisfied: unstructured-inference>=1.0.5 in /usr/local/lib/python3.12/dist-packages (from unstructured[all-docs]) (1.0.5)\n",
            "Requirement already satisfied: pdfminer.six in /usr/local/lib/python3.12/dist-packages (from unstructured[all-docs]) (20250506)\n",
            "Requirement already satisfied: openpyxl in /usr/local/lib/python3.12/dist-packages (from unstructured[all-docs]) (3.1.5)\n",
            "Requirement already satisfied: pikepdf in /usr/local/lib/python3.12/dist-packages (from unstructured[all-docs]) (10.0.0)\n",
            "Requirement already satisfied: onnxruntime>=1.19.0 in /usr/local/lib/python3.12/dist-packages (from unstructured[all-docs]) (1.23.2)\n",
            "Requirement already satisfied: annotated-types>=0.6.0 in /usr/local/lib/python3.12/dist-packages (from pydantic) (0.7.0)\n",
            "Requirement already satisfied: pydantic-core==2.33.2 in /usr/local/lib/python3.12/dist-packages (from pydantic) (2.33.2)\n",
            "Requirement already satisfied: typing-inspection>=0.4.0 in /usr/local/lib/python3.12/dist-packages (from pydantic) (0.4.2)\n",
            "Requirement already satisfied: contourpy>=1.0.1 in /usr/local/lib/python3.12/dist-packages (from matplotlib) (1.3.3)\n",
            "Requirement already satisfied: cycler>=0.10 in /usr/local/lib/python3.12/dist-packages (from matplotlib) (0.12.1)\n",
            "Requirement already satisfied: fonttools>=4.22.0 in /usr/local/lib/python3.12/dist-packages (from matplotlib) (4.60.1)\n",
            "Requirement already satisfied: kiwisolver>=1.3.1 in /usr/local/lib/python3.12/dist-packages (from matplotlib) (1.4.9)\n",
            "Requirement already satisfied: packaging>=20.0 in /usr/local/lib/python3.12/dist-packages (from matplotlib) (25.0)\n",
            "Requirement already satisfied: pyparsing>=2.3.1 in /usr/local/lib/python3.12/dist-packages (from matplotlib) (3.2.5)\n",
            "Requirement already satisfied: python-dateutil>=2.7 in /usr/local/lib/python3.12/dist-packages (from matplotlib) (2.9.0.post0)\n",
            "Requirement already satisfied: protobuf>=4.25.1 in /usr/local/lib/python3.12/dist-packages (from onnx>=1.17.0->unstructured[all-docs]) (5.29.5)\n",
            "Requirement already satisfied: ml_dtypes>=0.5.0 in /usr/local/lib/python3.12/dist-packages (from onnx>=1.17.0->unstructured[all-docs]) (0.5.3)\n",
            "Requirement already satisfied: coloredlogs in /usr/local/lib/python3.12/dist-packages (from onnxruntime>=1.19.0->unstructured[all-docs]) (15.0.1)\n",
            "Requirement already satisfied: flatbuffers in /usr/local/lib/python3.12/dist-packages (from onnxruntime>=1.19.0->unstructured[all-docs]) (25.9.23)\n",
            "Requirement already satisfied: sympy in /usr/local/lib/python3.12/dist-packages (from onnxruntime>=1.19.0->unstructured[all-docs]) (1.13.3)\n",
            "Requirement already satisfied: six>=1.5 in /usr/local/lib/python3.12/dist-packages (from python-dateutil>=2.7->matplotlib) (1.17.0)\n",
            "Requirement already satisfied: XlsxWriter>=0.5.7 in /usr/local/lib/python3.12/dist-packages (from python-pptx>=1.0.1->unstructured[all-docs]) (3.2.9)\n",
            "Requirement already satisfied: python-multipart in /usr/local/lib/python3.12/dist-packages (from unstructured-inference>=1.0.5->unstructured[all-docs]) (0.0.20)\n",
            "Requirement already satisfied: huggingface-hub in /usr/local/lib/python3.12/dist-packages (from unstructured-inference>=1.0.5->unstructured[all-docs]) (0.35.3)\n",
            "Requirement already satisfied: opencv-python!=4.7.0.68 in /usr/local/lib/python3.12/dist-packages (from unstructured-inference>=1.0.5->unstructured[all-docs]) (4.12.0.88)\n",
            "Requirement already satisfied: torch in /usr/local/lib/python3.12/dist-packages (from unstructured-inference>=1.0.5->unstructured[all-docs]) (2.8.0+cu126)\n",
            "Requirement already satisfied: timm in /usr/local/lib/python3.12/dist-packages (from unstructured-inference>=1.0.5->unstructured[all-docs]) (1.0.20)\n",
            "Requirement already satisfied: transformers>=4.25.1 in /usr/local/lib/python3.12/dist-packages (from unstructured-inference>=1.0.5->unstructured[all-docs]) (4.57.1)\n",
            "Requirement already satisfied: accelerate in /usr/local/lib/python3.12/dist-packages (from unstructured-inference>=1.0.5->unstructured[all-docs]) (1.11.0)\n",
            "Requirement already satisfied: scipy in /usr/local/lib/python3.12/dist-packages (from unstructured-inference>=1.0.5->unstructured[all-docs]) (1.16.2)\n",
            "Requirement already satisfied: pypdfium2 in /usr/local/lib/python3.12/dist-packages (from unstructured-inference>=1.0.5->unstructured[all-docs]) (5.0.0)\n",
            "Requirement already satisfied: soupsieve>1.2 in /usr/local/lib/python3.12/dist-packages (from beautifulsoup4->unstructured[all-docs]) (2.8)\n",
            "Requirement already satisfied: marshmallow<4.0.0,>=3.18.0 in /usr/local/lib/python3.12/dist-packages (from dataclasses-json->unstructured[all-docs]) (3.26.1)\n",
            "Requirement already satisfied: typing-inspect<1,>=0.4.0 in /usr/local/lib/python3.12/dist-packages (from dataclasses-json->unstructured[all-docs]) (0.9.0)\n",
            "Requirement already satisfied: torchvision in /usr/local/lib/python3.12/dist-packages (from effdet->unstructured[all-docs]) (0.23.0+cu126)\n",
            "Requirement already satisfied: pycocotools>=2.0.2 in /usr/local/lib/python3.12/dist-packages (from effdet->unstructured[all-docs]) (2.0.10)\n",
            "Requirement already satisfied: omegaconf>=2.0 in /usr/local/lib/python3.12/dist-packages (from effdet->unstructured[all-docs]) (2.3.0)\n",
            "Requirement already satisfied: google-api-core!=2.0.*,!=2.1.*,!=2.10.*,!=2.2.*,!=2.3.*,!=2.4.*,!=2.5.*,!=2.6.*,!=2.7.*,!=2.8.*,!=2.9.*,<3.0.0,>=1.34.1 in /usr/local/lib/python3.12/dist-packages (from google-api-core[grpc]!=2.0.*,!=2.1.*,!=2.10.*,!=2.2.*,!=2.3.*,!=2.4.*,!=2.5.*,!=2.6.*,!=2.7.*,!=2.8.*,!=2.9.*,<3.0.0,>=1.34.1->google-cloud-vision->unstructured[all-docs]) (2.26.0)\n",
            "Requirement already satisfied: google-auth!=2.24.0,!=2.25.0,<3.0.0,>=2.14.1 in /usr/local/lib/python3.12/dist-packages (from google-cloud-vision->unstructured[all-docs]) (2.38.0)\n",
            "Requirement already satisfied: grpcio<2.0.0,>=1.33.2 in /usr/local/lib/python3.12/dist-packages (from google-cloud-vision->unstructured[all-docs]) (1.75.1)\n",
            "Requirement already satisfied: proto-plus<2.0.0,>=1.22.3 in /usr/local/lib/python3.12/dist-packages (from google-cloud-vision->unstructured[all-docs]) (1.26.1)\n",
            "Requirement already satisfied: webencodings in /usr/local/lib/python3.12/dist-packages (from html5lib->unstructured[all-docs]) (0.5.1)\n",
            "Requirement already satisfied: cryptography>=39.0 in /usr/local/lib/python3.12/dist-packages (from msoffcrypto-tool->unstructured[all-docs]) (43.0.3)\n",
            "Requirement already satisfied: olefile>=0.46 in /usr/local/lib/python3.12/dist-packages (from msoffcrypto-tool->unstructured[all-docs]) (0.47)\n",
            "Requirement already satisfied: click in /usr/local/lib/python3.12/dist-packages (from nltk->unstructured[all-docs]) (8.3.0)\n",
            "Requirement already satisfied: joblib in /usr/local/lib/python3.12/dist-packages (from nltk->unstructured[all-docs]) (1.5.2)\n",
            "Requirement already satisfied: regex>=2021.8.3 in /usr/local/lib/python3.12/dist-packages (from nltk->unstructured[all-docs]) (2024.11.6)\n",
            "Requirement already satisfied: et-xmlfile in /usr/local/lib/python3.12/dist-packages (from openpyxl->unstructured[all-docs]) (2.0.0)\n",
            "Requirement already satisfied: pytz>=2020.1 in /usr/local/lib/python3.12/dist-packages (from pandas->unstructured[all-docs]) (2025.2)\n",
            "Requirement already satisfied: tzdata>=2022.7 in /usr/local/lib/python3.12/dist-packages (from pandas->unstructured[all-docs]) (2025.2)\n",
            "Requirement already satisfied: Deprecated in /usr/local/lib/python3.12/dist-packages (from pikepdf->unstructured[all-docs]) (1.2.18)\n",
            "Requirement already satisfied: idna<4,>=2.5 in /usr/local/lib/python3.12/dist-packages (from requests->unstructured[all-docs]) (3.11)\n",
            "Requirement already satisfied: urllib3<3,>=1.21.1 in /usr/local/lib/python3.12/dist-packages (from requests->unstructured[all-docs]) (2.5.0)\n",
            "Requirement already satisfied: certifi>=2017.4.17 in /usr/local/lib/python3.12/dist-packages (from requests->unstructured[all-docs]) (2025.10.5)\n",
            "Requirement already satisfied: aiofiles>=24.1.0 in /usr/local/lib/python3.12/dist-packages (from unstructured-client->unstructured[all-docs]) (24.1.0)\n",
            "Requirement already satisfied: httpcore>=1.0.9 in /usr/local/lib/python3.12/dist-packages (from unstructured-client->unstructured[all-docs]) (1.0.9)\n",
            "Requirement already satisfied: httpx>=0.27.0 in /usr/local/lib/python3.12/dist-packages (from unstructured-client->unstructured[all-docs]) (0.28.1)\n",
            "Requirement already satisfied: requests-toolbelt>=1.0.0 in /usr/local/lib/python3.12/dist-packages (from unstructured-client->unstructured[all-docs]) (1.0.0)\n",
            "Requirement already satisfied: cffi>=1.12 in /usr/local/lib/python3.12/dist-packages (from cryptography>=39.0->msoffcrypto-tool->unstructured[all-docs]) (2.0.0)\n",
            "Requirement already satisfied: googleapis-common-protos<2.0.0,>=1.56.2 in /usr/local/lib/python3.12/dist-packages (from google-api-core!=2.0.*,!=2.1.*,!=2.10.*,!=2.2.*,!=2.3.*,!=2.4.*,!=2.5.*,!=2.6.*,!=2.7.*,!=2.8.*,!=2.9.*,<3.0.0,>=1.34.1->google-api-core[grpc]!=2.0.*,!=2.1.*,!=2.10.*,!=2.2.*,!=2.3.*,!=2.4.*,!=2.5.*,!=2.6.*,!=2.7.*,!=2.8.*,!=2.9.*,<3.0.0,>=1.34.1->google-cloud-vision->unstructured[all-docs]) (1.71.0)\n",
            "Requirement already satisfied: grpcio-status<2.0.0,>=1.33.2 in /usr/local/lib/python3.12/dist-packages (from google-api-core[grpc]!=2.0.*,!=2.1.*,!=2.10.*,!=2.2.*,!=2.3.*,!=2.4.*,!=2.5.*,!=2.6.*,!=2.7.*,!=2.8.*,!=2.9.*,<3.0.0,>=1.34.1->google-cloud-vision->unstructured[all-docs]) (1.71.2)\n",
            "Requirement already satisfied: cachetools<6.0,>=2.0.0 in /usr/local/lib/python3.12/dist-packages (from google-auth!=2.24.0,!=2.25.0,<3.0.0,>=2.14.1->google-cloud-vision->unstructured[all-docs]) (5.5.2)\n",
            "Requirement already satisfied: pyasn1-modules>=0.2.1 in /usr/local/lib/python3.12/dist-packages (from google-auth!=2.24.0,!=2.25.0,<3.0.0,>=2.14.1->google-cloud-vision->unstructured[all-docs]) (0.4.2)\n",
            "Requirement already satisfied: rsa<5,>=3.1.4 in /usr/local/lib/python3.12/dist-packages (from google-auth!=2.24.0,!=2.25.0,<3.0.0,>=2.14.1->google-cloud-vision->unstructured[all-docs]) (4.9.1)\n",
            "Requirement already satisfied: h11>=0.16 in /usr/local/lib/python3.12/dist-packages (from httpcore>=1.0.9->unstructured-client->unstructured[all-docs]) (0.16.0)\n",
            "Requirement already satisfied: anyio in /usr/local/lib/python3.12/dist-packages (from httpx>=0.27.0->unstructured-client->unstructured[all-docs]) (4.11.0)\n",
            "Requirement already satisfied: antlr4-python3-runtime==4.9.* in /usr/local/lib/python3.12/dist-packages (from omegaconf>=2.0->effdet->unstructured[all-docs]) (4.9.3)\n",
            "Requirement already satisfied: PyYAML>=5.1.0 in /usr/local/lib/python3.12/dist-packages (from omegaconf>=2.0->effdet->unstructured[all-docs]) (6.0.3)\n",
            "Requirement already satisfied: safetensors in /usr/local/lib/python3.12/dist-packages (from timm->unstructured-inference>=1.0.5->unstructured[all-docs]) (0.6.2)\n",
            "Requirement already satisfied: filelock in /usr/local/lib/python3.12/dist-packages (from torch->unstructured-inference>=1.0.5->unstructured[all-docs]) (3.20.0)\n",
            "Requirement already satisfied: setuptools in /usr/local/lib/python3.12/dist-packages (from torch->unstructured-inference>=1.0.5->unstructured[all-docs]) (75.2.0)\n",
            "Requirement already satisfied: jinja2 in /usr/local/lib/python3.12/dist-packages (from torch->unstructured-inference>=1.0.5->unstructured[all-docs]) (3.1.6)\n",
            "Requirement already satisfied: fsspec in /usr/local/lib/python3.12/dist-packages (from torch->unstructured-inference>=1.0.5->unstructured[all-docs]) (2025.3.0)\n",
            "Requirement already satisfied: nvidia-cuda-nvrtc-cu12==12.6.77 in /usr/local/lib/python3.12/dist-packages (from torch->unstructured-inference>=1.0.5->unstructured[all-docs]) (12.6.77)\n",
            "Requirement already satisfied: nvidia-cuda-runtime-cu12==12.6.77 in /usr/local/lib/python3.12/dist-packages (from torch->unstructured-inference>=1.0.5->unstructured[all-docs]) (12.6.77)\n",
            "Requirement already satisfied: nvidia-cuda-cupti-cu12==12.6.80 in /usr/local/lib/python3.12/dist-packages (from torch->unstructured-inference>=1.0.5->unstructured[all-docs]) (12.6.80)\n",
            "Requirement already satisfied: nvidia-cudnn-cu12==9.10.2.21 in /usr/local/lib/python3.12/dist-packages (from torch->unstructured-inference>=1.0.5->unstructured[all-docs]) (9.10.2.21)\n",
            "Requirement already satisfied: nvidia-cublas-cu12==12.6.4.1 in /usr/local/lib/python3.12/dist-packages (from torch->unstructured-inference>=1.0.5->unstructured[all-docs]) (12.6.4.1)\n",
            "Requirement already satisfied: nvidia-cufft-cu12==11.3.0.4 in /usr/local/lib/python3.12/dist-packages (from torch->unstructured-inference>=1.0.5->unstructured[all-docs]) (11.3.0.4)\n",
            "Requirement already satisfied: nvidia-curand-cu12==10.3.7.77 in /usr/local/lib/python3.12/dist-packages (from torch->unstructured-inference>=1.0.5->unstructured[all-docs]) (10.3.7.77)\n",
            "Requirement already satisfied: nvidia-cusolver-cu12==11.7.1.2 in /usr/local/lib/python3.12/dist-packages (from torch->unstructured-inference>=1.0.5->unstructured[all-docs]) (11.7.1.2)\n",
            "Requirement already satisfied: nvidia-cusparse-cu12==12.5.4.2 in /usr/local/lib/python3.12/dist-packages (from torch->unstructured-inference>=1.0.5->unstructured[all-docs]) (12.5.4.2)\n",
            "Requirement already satisfied: nvidia-cusparselt-cu12==0.7.1 in /usr/local/lib/python3.12/dist-packages (from torch->unstructured-inference>=1.0.5->unstructured[all-docs]) (0.7.1)\n",
            "Requirement already satisfied: nvidia-nccl-cu12==2.27.3 in /usr/local/lib/python3.12/dist-packages (from torch->unstructured-inference>=1.0.5->unstructured[all-docs]) (2.27.3)\n",
            "Requirement already satisfied: nvidia-nvtx-cu12==12.6.77 in /usr/local/lib/python3.12/dist-packages (from torch->unstructured-inference>=1.0.5->unstructured[all-docs]) (12.6.77)\n",
            "Requirement already satisfied: nvidia-nvjitlink-cu12==12.6.85 in /usr/local/lib/python3.12/dist-packages (from torch->unstructured-inference>=1.0.5->unstructured[all-docs]) (12.6.85)\n",
            "Requirement already satisfied: nvidia-cufile-cu12==1.11.1.6 in /usr/local/lib/python3.12/dist-packages (from torch->unstructured-inference>=1.0.5->unstructured[all-docs]) (1.11.1.6)\n",
            "Requirement already satisfied: triton==3.4.0 in /usr/local/lib/python3.12/dist-packages (from torch->unstructured-inference>=1.0.5->unstructured[all-docs]) (3.4.0)\n",
            "Requirement already satisfied: mpmath<1.4,>=1.1.0 in /usr/local/lib/python3.12/dist-packages (from sympy->onnxruntime>=1.19.0->unstructured[all-docs]) (1.3.0)\n",
            "Requirement already satisfied: tokenizers<=0.23.0,>=0.22.0 in /usr/local/lib/python3.12/dist-packages (from transformers>=4.25.1->unstructured-inference>=1.0.5->unstructured[all-docs]) (0.22.1)\n",
            "Requirement already satisfied: hf-xet<2.0.0,>=1.1.3 in /usr/local/lib/python3.12/dist-packages (from huggingface-hub->unstructured-inference>=1.0.5->unstructured[all-docs]) (1.1.10)\n",
            "Requirement already satisfied: mypy-extensions>=0.3.0 in /usr/local/lib/python3.12/dist-packages (from typing-inspect<1,>=0.4.0->dataclasses-json->unstructured[all-docs]) (1.1.0)\n",
            "Requirement already satisfied: humanfriendly>=9.1 in /usr/local/lib/python3.12/dist-packages (from coloredlogs->onnxruntime>=1.19.0->unstructured[all-docs]) (10.0)\n",
            "Requirement already satisfied: pycparser in /usr/local/lib/python3.12/dist-packages (from cffi>=1.12->cryptography>=39.0->msoffcrypto-tool->unstructured[all-docs]) (2.23)\n",
            "Requirement already satisfied: pyasn1<0.7.0,>=0.6.1 in /usr/local/lib/python3.12/dist-packages (from pyasn1-modules>=0.2.1->google-auth!=2.24.0,!=2.25.0,<3.0.0,>=2.14.1->google-cloud-vision->unstructured[all-docs]) (0.6.1)\n",
            "Requirement already satisfied: sniffio>=1.1 in /usr/local/lib/python3.12/dist-packages (from anyio->httpx>=0.27.0->unstructured-client->unstructured[all-docs]) (1.3.1)\n",
            "Requirement already satisfied: MarkupSafe>=2.0 in /usr/local/lib/python3.12/dist-packages (from jinja2->torch->unstructured-inference>=1.0.5->unstructured[all-docs]) (3.0.3)\n"
          ]
        }
      ],
      "source": [
        "! pip install \"unstructured[all-docs]\" pillow pydantic lxml pillow matplotlib"
      ]
    },
    {
      "cell_type": "code",
      "source": [
        "!sudo apt-get update"
      ],
      "metadata": {
        "colab": {
          "base_uri": "https://localhost:8080/"
        },
        "id": "fKaHqhCsR2dv",
        "outputId": "f35fcc35-9901-4a74-9e7d-f81ddd1dd051"
      },
      "execution_count": 2,
      "outputs": [
        {
          "output_type": "stream",
          "name": "stdout",
          "text": [
            "\r0% [Working]\r            \rGet:1 https://cli.github.com/packages stable InRelease [3,917 B]\n",
            "\r0% [Connecting to archive.ubuntu.com (185.125.190.36)] [Connecting to security.\r0% [Connecting to archive.ubuntu.com (185.125.190.36)] [Connecting to security.\r                                                                               \rHit:2 https://cloud.r-project.org/bin/linux/ubuntu jammy-cran40/ InRelease\n",
            "Hit:3 https://developer.download.nvidia.com/compute/cuda/repos/ubuntu2204/x86_64  InRelease\n",
            "Hit:4 https://r2u.stat.illinois.edu/ubuntu jammy InRelease\n",
            "Hit:5 http://security.ubuntu.com/ubuntu jammy-security InRelease\n",
            "Hit:6 http://archive.ubuntu.com/ubuntu jammy InRelease\n",
            "Hit:7 http://archive.ubuntu.com/ubuntu jammy-updates InRelease\n",
            "Hit:8 http://archive.ubuntu.com/ubuntu jammy-backports InRelease\n",
            "Hit:9 https://ppa.launchpadcontent.net/deadsnakes/ppa/ubuntu jammy InRelease\n",
            "Hit:10 https://ppa.launchpadcontent.net/graphics-drivers/ppa/ubuntu jammy InRelease\n",
            "Hit:11 https://ppa.launchpadcontent.net/ubuntugis/ppa/ubuntu jammy InRelease\n",
            "Fetched 3,917 B in 2s (2,177 B/s)\n",
            "Reading package lists... Done\n",
            "W: Skipping acquire of configured file 'main/source/Sources' as repository 'https://r2u.stat.illinois.edu/ubuntu jammy InRelease' does not seem to provide it (sources.list entry misspelt?)\n"
          ]
        }
      ]
    },
    {
      "cell_type": "code",
      "source": [
        "!sudo apt-get install poppler-utils"
      ],
      "metadata": {
        "colab": {
          "base_uri": "https://localhost:8080/"
        },
        "id": "wSxS9nE7SCts",
        "outputId": "ffa53b63-3edf-45a6-b2f3-e99a30c42a62"
      },
      "execution_count": 3,
      "outputs": [
        {
          "output_type": "stream",
          "name": "stdout",
          "text": [
            "Reading package lists... Done\n",
            "Building dependency tree... Done\n",
            "Reading state information... Done\n",
            "poppler-utils is already the newest version (22.02.0-2ubuntu0.11).\n",
            "0 upgraded, 0 newly installed, 0 to remove and 38 not upgraded.\n"
          ]
        }
      ]
    },
    {
      "cell_type": "code",
      "source": [
        "!sudo apt-get install libleptonica-dev tesseract-ocr libtesseract-dev python3-pil tesseract-ocr-eng tesseract-ocr-script-latn"
      ],
      "metadata": {
        "colab": {
          "base_uri": "https://localhost:8080/"
        },
        "id": "-Gdpt1s0SNer",
        "outputId": "d88f3604-c55a-49dc-c9e2-9a1f70eb8d25"
      },
      "execution_count": 4,
      "outputs": [
        {
          "output_type": "stream",
          "name": "stdout",
          "text": [
            "Reading package lists... Done\n",
            "Building dependency tree... Done\n",
            "Reading state information... Done\n",
            "libleptonica-dev is already the newest version (1.82.0-3build1).\n",
            "libtesseract-dev is already the newest version (4.1.1-2.1build1).\n",
            "tesseract-ocr is already the newest version (4.1.1-2.1build1).\n",
            "tesseract-ocr-eng is already the newest version (1:4.00~git30-7274cfa-1.1).\n",
            "tesseract-ocr-script-latn is already the newest version (1:4.00~git30-7274cfa-1.1).\n",
            "python3-pil is already the newest version (9.0.1-1ubuntu0.3).\n",
            "0 upgraded, 0 newly installed, 0 to remove and 38 not upgraded.\n"
          ]
        }
      ]
    },
    {
      "cell_type": "code",
      "source": [
        "!pip install unstructured-pytesseract\n",
        "!pip install tesseract-ocr"
      ],
      "metadata": {
        "colab": {
          "base_uri": "https://localhost:8080/"
        },
        "id": "y4h0DzGFS1fA",
        "outputId": "d10e1b67-db56-4d3e-8a30-c499e5f64d66"
      },
      "execution_count": 5,
      "outputs": [
        {
          "output_type": "stream",
          "name": "stdout",
          "text": [
            "Requirement already satisfied: unstructured-pytesseract in /usr/local/lib/python3.12/dist-packages (0.3.15)\n",
            "Requirement already satisfied: packaging>=21.3 in /usr/local/lib/python3.12/dist-packages (from unstructured-pytesseract) (25.0)\n",
            "Requirement already satisfied: Pillow>=8.0.0 in /usr/local/lib/python3.12/dist-packages (from unstructured-pytesseract) (11.3.0)\n",
            "Requirement already satisfied: tesseract-ocr in /usr/local/lib/python3.12/dist-packages (0.0.1)\n",
            "Requirement already satisfied: cython in /usr/local/lib/python3.12/dist-packages (from tesseract-ocr) (3.0.12)\n"
          ]
        }
      ]
    },
    {
      "cell_type": "code",
      "source": [
        "from unstructured.partition.pdf import partition_pdf"
      ],
      "metadata": {
        "id": "ANf93aaUTIK7"
      },
      "execution_count": 6,
      "outputs": []
    },
    {
      "cell_type": "code",
      "source": [
        "raw_pdf_elements = partition_pdf(\n",
        "    filename = \"/content/data/cj.pdf\",\n",
        "    strategy=\"hi_res\",\n",
        "    extract_images_in_pdfs=True,\n",
        "    extract_image_block_types =['Image','Table'],\n",
        "    extract_image_block_to_payload=False,\n",
        "    extract_image_block_output_dir=\"extracted_data\"\n",
        ")"
      ],
      "metadata": {
        "colab": {
          "base_uri": "https://localhost:8080/"
        },
        "id": "gXBDc3uATzrq",
        "outputId": "b90a08a9-9e1b-424b-f596-5013de95f7ce"
      },
      "execution_count": 7,
      "outputs": [
        {
          "output_type": "stream",
          "name": "stdout",
          "text": [
            "Warning: No languages specified, defaulting to English.\n"
          ]
        }
      ]
    },
    {
      "cell_type": "code",
      "source": [
        "raw_pdf_elements"
      ],
      "metadata": {
        "colab": {
          "base_uri": "https://localhost:8080/"
        },
        "id": "u04upYjGYYsX",
        "outputId": "22ddb80e-1ca2-4543-d283-282d7ca69032"
      },
      "execution_count": 8,
      "outputs": [
        {
          "output_type": "execute_result",
          "data": {
            "text/plain": [
              "[<unstructured.documents.elements.Header at 0x79c5e4339460>,\n",
              " <unstructured.documents.elements.Header at 0x79c5e433b620>,\n",
              " <unstructured.documents.elements.Title at 0x79c5e4339b80>,\n",
              " <unstructured.documents.elements.Text at 0x79c5e4339d90>,\n",
              " <unstructured.documents.elements.NarrativeText at 0x79c5e4339760>,\n",
              " <unstructured.documents.elements.Text at 0x79c5e43392b0>,\n",
              " <unstructured.documents.elements.Image at 0x79c5e43385f0>,\n",
              " <unstructured.documents.elements.NarrativeText at 0x79c5e4339820>,\n",
              " <unstructured.documents.elements.Title at 0x79c5e433ae70>,\n",
              " <unstructured.documents.elements.NarrativeText at 0x79c5e4338710>,\n",
              " <unstructured.documents.elements.NarrativeText at 0x79c5e4339af0>,\n",
              " <unstructured.documents.elements.ListItem at 0x79c5e4339a30>,\n",
              " <unstructured.documents.elements.ListItem at 0x79c5e433ab40>,\n",
              " <unstructured.documents.elements.ListItem at 0x79c5e4339040>,\n",
              " <unstructured.documents.elements.ListItem at 0x79c5e4338da0>,\n",
              " <unstructured.documents.elements.Text at 0x79c5e4338080>,\n",
              " <unstructured.documents.elements.NarrativeText at 0x79c5e433a930>,\n",
              " <unstructured.documents.elements.NarrativeText at 0x79c5e4338890>,\n",
              " <unstructured.documents.elements.NarrativeText at 0x79c5e43393d0>,\n",
              " <unstructured.documents.elements.NarrativeText at 0x79c5e433ba10>,\n",
              " <unstructured.documents.elements.Header at 0x79c5e4339df0>,\n",
              " <unstructured.documents.elements.Header at 0x79c5e4339310>,\n",
              " <unstructured.documents.elements.NarrativeText at 0x79c5e4338470>,\n",
              " <unstructured.documents.elements.NarrativeText at 0x79c5e433b0e0>,\n",
              " <unstructured.documents.elements.NarrativeText at 0x79c5e433af00>,\n",
              " <unstructured.documents.elements.ListItem at 0x79c5e433be30>,\n",
              " <unstructured.documents.elements.ListItem at 0x79c5e4338f20>,\n",
              " <unstructured.documents.elements.NarrativeText at 0x79c5e433a360>,\n",
              " <unstructured.documents.elements.NarrativeText at 0x79c5e4338ad0>,\n",
              " <unstructured.documents.elements.NarrativeText at 0x79c5e433b110>,\n",
              " <unstructured.documents.elements.Header at 0x79c5e4339700>,\n",
              " <unstructured.documents.elements.Header at 0x79c5e433b770>,\n",
              " <unstructured.documents.elements.NarrativeText at 0x79c5e433b590>,\n",
              " <unstructured.documents.elements.Title at 0x79c5e4338800>,\n",
              " <unstructured.documents.elements.NarrativeText at 0x79c5e433aae0>,\n",
              " <unstructured.documents.elements.ListItem at 0x79c5e433a9c0>,\n",
              " <unstructured.documents.elements.ListItem at 0x79c5e433baa0>,\n",
              " <unstructured.documents.elements.ListItem at 0x79c5e4339490>,\n",
              " <unstructured.documents.elements.ListItem at 0x79c5e4338c50>,\n",
              " <unstructured.documents.elements.NarrativeText at 0x79c5e433adb0>,\n",
              " <unstructured.documents.elements.NarrativeText at 0x79c5e4338380>,\n",
              " <unstructured.documents.elements.NarrativeText at 0x79c5e4339eb0>,\n",
              " <unstructured.documents.elements.Header at 0x79c5e43390d0>,\n",
              " <unstructured.documents.elements.Header at 0x79c5e433b950>,\n",
              " <unstructured.documents.elements.NarrativeText at 0x79c5e4338c20>,\n",
              " <unstructured.documents.elements.Title at 0x79c5e433a450>,\n",
              " <unstructured.documents.elements.Table at 0x79c5e43394c0>,\n",
              " <unstructured.documents.elements.Title at 0x79c5e4338530>,\n",
              " <unstructured.documents.elements.NarrativeText at 0x79c5e433bda0>,\n",
              " <unstructured.documents.elements.NarrativeText at 0x79c5e43385c0>,\n",
              " <unstructured.documents.elements.Header at 0x79c5e4339e20>,\n",
              " <unstructured.documents.elements.Header at 0x79c5e4339fd0>,\n",
              " <unstructured.documents.elements.Table at 0x79c5e433b470>,\n",
              " <unstructured.documents.elements.Title at 0x79c5e433af30>,\n",
              " <unstructured.documents.elements.Table at 0x79c5e433a780>,\n",
              " <unstructured.documents.elements.Title at 0x79c5e433bf50>,\n",
              " <unstructured.documents.elements.NarrativeText at 0x79c5e43398b0>,\n",
              " <unstructured.documents.elements.NarrativeText at 0x79c5e433a6c0>,\n",
              " <unstructured.documents.elements.NarrativeText at 0x79c5e43399d0>,\n",
              " <unstructured.documents.elements.Header at 0x79c5e4338680>,\n",
              " <unstructured.documents.elements.Header at 0x79c5e433aa50>,\n",
              " <unstructured.documents.elements.NarrativeText at 0x79c5e433b9e0>,\n",
              " <unstructured.documents.elements.NarrativeText at 0x79c5e43389e0>,\n",
              " <unstructured.documents.elements.ListItem at 0x79c5e1e55280>,\n",
              " <unstructured.documents.elements.ListItem at 0x79c5e403b320>,\n",
              " <unstructured.documents.elements.ListItem at 0x79c5e403a4b0>,\n",
              " <unstructured.documents.elements.Text at 0x79c5e403b290>,\n",
              " <unstructured.documents.elements.NarrativeText at 0x79c5e403aa50>,\n",
              " <unstructured.documents.elements.Image at 0x79c5e4039340>,\n",
              " <unstructured.documents.elements.FigureCaption at 0x79c5e4039df0>,\n",
              " <unstructured.documents.elements.NarrativeText at 0x79c5e403bad0>,\n",
              " <unstructured.documents.elements.NarrativeText at 0x79c5e403b950>,\n",
              " <unstructured.documents.elements.Text at 0x79c5e403bc50>,\n",
              " <unstructured.documents.elements.NarrativeText at 0x79c5e4038fb0>,\n",
              " <unstructured.documents.elements.Header at 0x79c5e4338b60>,\n",
              " <unstructured.documents.elements.Header at 0x79c5e433a0f0>,\n",
              " <unstructured.documents.elements.Title at 0x79c5e403bd70>,\n",
              " <unstructured.documents.elements.Image at 0x79c5e4038da0>,\n",
              " <unstructured.documents.elements.FigureCaption at 0x79c5e4039370>,\n",
              " <unstructured.documents.elements.NarrativeText at 0x79c5e403ade0>,\n",
              " <unstructured.documents.elements.Text at 0x79c5e4039940>,\n",
              " <unstructured.documents.elements.NarrativeText at 0x79c5e403b020>,\n",
              " <unstructured.documents.elements.ListItem at 0x79c5e403be30>,\n",
              " <unstructured.documents.elements.ListItem at 0x79c5e403af30>,\n",
              " <unstructured.documents.elements.Title at 0x79c5e4039760>,\n",
              " <unstructured.documents.elements.Title at 0x79c5e403a540>,\n",
              " <unstructured.documents.elements.Image at 0x79c5e4039850>,\n",
              " <unstructured.documents.elements.FigureCaption at 0x79c5e403b0e0>,\n",
              " <unstructured.documents.elements.NarrativeText at 0x79c5e4039a60>,\n",
              " <unstructured.documents.elements.Text at 0x79c5e4039400>,\n",
              " <unstructured.documents.elements.NarrativeText at 0x79c5e40381d0>,\n",
              " <unstructured.documents.elements.NarrativeText at 0x79c5e40383b0>,\n",
              " <unstructured.documents.elements.Header at 0x79c5e4339850>,\n",
              " <unstructured.documents.elements.Header at 0x79c5e4039ac0>,\n",
              " <unstructured.documents.elements.Text at 0x79c5e4039b80>,\n",
              " <unstructured.documents.elements.Image at 0x79c5e403a150>,\n",
              " <unstructured.documents.elements.Title at 0x79c5e403a810>,\n",
              " <unstructured.documents.elements.NarrativeText at 0x79c5e4038f50>,\n",
              " <unstructured.documents.elements.NarrativeText at 0x79c5e403ab70>,\n",
              " <unstructured.documents.elements.Image at 0x79c5e4038290>,\n",
              " <unstructured.documents.elements.Text at 0x79c5e403a6c0>,\n",
              " <unstructured.documents.elements.Text at 0x79c5e4038800>,\n",
              " <unstructured.documents.elements.Text at 0x79c5e403b4d0>,\n",
              " <unstructured.documents.elements.Text at 0x79c5e403be60>,\n",
              " <unstructured.documents.elements.NarrativeText at 0x79c5e403aab0>,\n",
              " <unstructured.documents.elements.NarrativeText at 0x79c5e40386e0>,\n",
              " <unstructured.documents.elements.Header at 0x79c5e40390a0>,\n",
              " <unstructured.documents.elements.Header at 0x79c5e4039c70>,\n",
              " <unstructured.documents.elements.NarrativeText at 0x79c5e403a450>,\n",
              " <unstructured.documents.elements.Image at 0x79c5e4038530>,\n",
              " <unstructured.documents.elements.Title at 0x79c5e4039a30>,\n",
              " <unstructured.documents.elements.NarrativeText at 0x79c5e4038350>,\n",
              " <unstructured.documents.elements.Title at 0x79c5e403b980>,\n",
              " <unstructured.documents.elements.Image at 0x79c5e40399d0>,\n",
              " <unstructured.documents.elements.Title at 0x79c5e403a420>,\n",
              " <unstructured.documents.elements.NarrativeText at 0x79c5e403bdd0>,\n",
              " <unstructured.documents.elements.NarrativeText at 0x79c5e40389e0>,\n",
              " <unstructured.documents.elements.Header at 0x79c5e403b350>,\n",
              " <unstructured.documents.elements.Header at 0x79c5e403a480>,\n",
              " <unstructured.documents.elements.Text at 0x79c5e403a3f0>,\n",
              " <unstructured.documents.elements.Image at 0x79c5e403bef0>,\n",
              " <unstructured.documents.elements.Title at 0x79c5e403bbc0>,\n",
              " <unstructured.documents.elements.NarrativeText at 0x79c5e403a930>,\n",
              " <unstructured.documents.elements.FigureCaption at 0x79c5e40393a0>,\n",
              " <unstructured.documents.elements.Image at 0x79c5e4039b20>,\n",
              " <unstructured.documents.elements.Title at 0x79c5e403aa20>,\n",
              " <unstructured.documents.elements.ListItem at 0x79c5e40386b0>,\n",
              " <unstructured.documents.elements.ListItem at 0x79c5e403a660>,\n",
              " <unstructured.documents.elements.NarrativeText at 0x79c5e4038620>,\n",
              " <unstructured.documents.elements.NarrativeText at 0x79c5e403ab10>,\n",
              " <unstructured.documents.elements.Header at 0x79c5e4039e20>,\n",
              " <unstructured.documents.elements.Header at 0x79c5e4038830>,\n",
              " <unstructured.documents.elements.ListItem at 0x79c5e403bd40>,\n",
              " <unstructured.documents.elements.ListItem at 0x79c5e40387d0>,\n",
              " <unstructured.documents.elements.ListItem at 0x79c5e403a9f0>,\n",
              " <unstructured.documents.elements.ListItem at 0x79c5e4b4a780>,\n",
              " <unstructured.documents.elements.ListItem at 0x79c5e4b49430>,\n",
              " <unstructured.documents.elements.ListItem at 0x79c5e1c07110>,\n",
              " <unstructured.documents.elements.ListItem at 0x79c5e467f440>,\n",
              " <unstructured.documents.elements.ListItem at 0x79c5e467ecf0>,\n",
              " <unstructured.documents.elements.Title at 0x79c5e467e600>,\n",
              " <unstructured.documents.elements.NarrativeText at 0x79c5e467da00>,\n",
              " <unstructured.documents.elements.NarrativeText at 0x79c5e467c140>,\n",
              " <unstructured.documents.elements.Text at 0x79c5e467e8a0>,\n",
              " <unstructured.documents.elements.Text at 0x79c5e467c9e0>,\n",
              " <unstructured.documents.elements.Text at 0x79c5e467c3b0>,\n",
              " <unstructured.documents.elements.Text at 0x79c5e467e7b0>,\n",
              " <unstructured.documents.elements.Text at 0x79c5e467f410>,\n",
              " <unstructured.documents.elements.Text at 0x79c5e467e930>,\n",
              " <unstructured.documents.elements.Text at 0x79c5e467fa10>,\n",
              " <unstructured.documents.elements.Text at 0x79c5e467c440>,\n",
              " <unstructured.documents.elements.Text at 0x79c5e467ddc0>,\n",
              " <unstructured.documents.elements.Text at 0x79c5e467f350>,\n",
              " <unstructured.documents.elements.Text at 0x79c5e467ce30>,\n",
              " <unstructured.documents.elements.Table at 0x79c5e467c7a0>,\n",
              " <unstructured.documents.elements.Text at 0x79c5e467c2c0>,\n",
              " <unstructured.documents.elements.Text at 0x79c5e467c0b0>,\n",
              " <unstructured.documents.elements.NarrativeText at 0x79c5e467ce00>,\n",
              " <unstructured.documents.elements.Header at 0x79c5e4039220>,\n",
              " <unstructured.documents.elements.Header at 0x79c5e1c053d0>,\n",
              " <unstructured.documents.elements.Table at 0x79c5e1e57800>,\n",
              " <unstructured.documents.elements.Table at 0x79c5e433a870>,\n",
              " <unstructured.documents.elements.Title at 0x79c5e467dee0>,\n",
              " <unstructured.documents.elements.NarrativeText at 0x79c5e467df10>,\n",
              " <unstructured.documents.elements.NarrativeText at 0x79c5e467f8f0>,\n",
              " <unstructured.documents.elements.Text at 0x79c5e467e1e0>,\n",
              " <unstructured.documents.elements.Text at 0x79c5e467dfd0>,\n",
              " <unstructured.documents.elements.Text at 0x79c5e467d160>,\n",
              " <unstructured.documents.elements.Text at 0x79c5e467c230>,\n",
              " <unstructured.documents.elements.Text at 0x79c5e467cad0>,\n",
              " <unstructured.documents.elements.Text at 0x79c5e467ed20>,\n",
              " <unstructured.documents.elements.NarrativeText at 0x79c5e467e060>,\n",
              " <unstructured.documents.elements.Header at 0x79c5e4038e30>,\n",
              " <unstructured.documents.elements.Header at 0x79c5e467ef30>,\n",
              " <unstructured.documents.elements.NarrativeText at 0x79c5e467db50>,\n",
              " <unstructured.documents.elements.Image at 0x79c5e467fd10>,\n",
              " <unstructured.documents.elements.NarrativeText at 0x79c5e467c680>,\n",
              " <unstructured.documents.elements.NarrativeText at 0x79c5e467cc20>,\n",
              " <unstructured.documents.elements.Text at 0x79c5e4713ec0>,\n",
              " <unstructured.documents.elements.Text at 0x79c5e4713770>,\n",
              " <unstructured.documents.elements.NarrativeText at 0x79c5e467c830>,\n",
              " <unstructured.documents.elements.Image at 0x79c5e467f3e0>,\n",
              " <unstructured.documents.elements.NarrativeText at 0x79c5e467ee70>,\n",
              " <unstructured.documents.elements.NarrativeText at 0x79c5e467c260>,\n",
              " <unstructured.documents.elements.Text at 0x79c5e4712420>,\n",
              " <unstructured.documents.elements.NarrativeText at 0x79c5e467ccb0>,\n",
              " <unstructured.documents.elements.NarrativeText at 0x79c5e467eb10>,\n",
              " <unstructured.documents.elements.NarrativeText at 0x79c5e467fd70>,\n",
              " <unstructured.documents.elements.NarrativeText at 0x79c5e4712330>,\n",
              " <unstructured.documents.elements.NarrativeText at 0x79c5e47133b0>,\n",
              " <unstructured.documents.elements.Header at 0x79c5e467f740>,\n",
              " <unstructured.documents.elements.Header at 0x79c5e467dd90>,\n",
              " <unstructured.documents.elements.NarrativeText at 0x79c5e467e120>,\n",
              " <unstructured.documents.elements.NarrativeText at 0x79c5e1c07f50>,\n",
              " <unstructured.documents.elements.NarrativeText at 0x79c5e467f620>]"
            ]
          },
          "metadata": {},
          "execution_count": 8
        }
      ]
    },
    {
      "cell_type": "code",
      "source": [
        "Header=[]\n",
        "Footer = []\n",
        "Title = []\n",
        "NarrativeText=[]\n",
        "Text=[]\n",
        "ListItem=[]\n",
        "\n",
        "for element in raw_pdf_elements:\n",
        "  if \"unstructured.documents.elements.Header\" in str(type(element)):\n",
        "    Header.append(element)\n",
        "  elif \"unstructured.documents.elements.Footer\" in str(type(element)):\n",
        "    Footer.append(element)\n",
        "  elif \"unstructured.documents.elements.Title\" in str(type(element)):\n",
        "    Title.append(element)\n",
        "  elif \"unstructured.documents.elements.NarrativeText\" in str(type(element)):\n",
        "    NarrativeText.append(element)\n",
        "  elif \"unstructured.documents.elements.Text\" in str(type(element)):\n",
        "    Text.append(element)\n",
        "  elif \"unstructured.documents.elements.ListItem\" in str(type(element)):\n",
        "    ListItem.append(element)"
      ],
      "metadata": {
        "id": "GaOw7WSDiVck"
      },
      "execution_count": 9,
      "outputs": []
    },
    {
      "cell_type": "code",
      "source": [
        "ListItem"
      ],
      "metadata": {
        "colab": {
          "base_uri": "https://localhost:8080/"
        },
        "id": "AqLVsVkzjgf0",
        "outputId": "334dd473-e18c-418d-b1c1-d2397f597cbd"
      },
      "execution_count": 10,
      "outputs": [
        {
          "output_type": "execute_result",
          "data": {
            "text/plain": [
              "[<unstructured.documents.elements.ListItem at 0x79c5e4339a30>,\n",
              " <unstructured.documents.elements.ListItem at 0x79c5e433ab40>,\n",
              " <unstructured.documents.elements.ListItem at 0x79c5e4339040>,\n",
              " <unstructured.documents.elements.ListItem at 0x79c5e4338da0>,\n",
              " <unstructured.documents.elements.ListItem at 0x79c5e433be30>,\n",
              " <unstructured.documents.elements.ListItem at 0x79c5e4338f20>,\n",
              " <unstructured.documents.elements.ListItem at 0x79c5e433a9c0>,\n",
              " <unstructured.documents.elements.ListItem at 0x79c5e433baa0>,\n",
              " <unstructured.documents.elements.ListItem at 0x79c5e4339490>,\n",
              " <unstructured.documents.elements.ListItem at 0x79c5e4338c50>,\n",
              " <unstructured.documents.elements.ListItem at 0x79c5e1e55280>,\n",
              " <unstructured.documents.elements.ListItem at 0x79c5e403b320>,\n",
              " <unstructured.documents.elements.ListItem at 0x79c5e403a4b0>,\n",
              " <unstructured.documents.elements.ListItem at 0x79c5e403be30>,\n",
              " <unstructured.documents.elements.ListItem at 0x79c5e403af30>,\n",
              " <unstructured.documents.elements.ListItem at 0x79c5e40386b0>,\n",
              " <unstructured.documents.elements.ListItem at 0x79c5e403a660>,\n",
              " <unstructured.documents.elements.ListItem at 0x79c5e403bd40>,\n",
              " <unstructured.documents.elements.ListItem at 0x79c5e40387d0>,\n",
              " <unstructured.documents.elements.ListItem at 0x79c5e403a9f0>,\n",
              " <unstructured.documents.elements.ListItem at 0x79c5e4b4a780>,\n",
              " <unstructured.documents.elements.ListItem at 0x79c5e4b49430>,\n",
              " <unstructured.documents.elements.ListItem at 0x79c5e1c07110>,\n",
              " <unstructured.documents.elements.ListItem at 0x79c5e467f440>,\n",
              " <unstructured.documents.elements.ListItem at 0x79c5e467ecf0>]"
            ]
          },
          "metadata": {},
          "execution_count": 10
        }
      ]
    },
    {
      "cell_type": "code",
      "metadata": {
        "colab": {
          "base_uri": "https://localhost:8080/"
        },
        "id": "2137d82b",
        "outputId": "6e9bd4e7-b9a9-4392-ba06-e484b1c74359"
      },
      "source": [
        "for item in ListItem:\n",
        "  print(item.text)"
      ],
      "execution_count": 11,
      "outputs": [
        {
          "output_type": "stream",
          "name": "stdout",
          "text": [
            "1. Raw silicon (chips like Nvidia bought in large quantities to build out infra to service upcoming demand).\n",
            "2. Model providers (OpenAI, Anthropic, etc as companies start building out Al).\n",
            "3. Hyperscalers (AWS, Azure, GCP as companies look for cloud GPUs who aren’ building out their own data centers)\n",
            "4. Infra (Data layer, orchestration, monitoring, ops, etc)\n",
            "1. Context length: Context window of GPT 4 Turbo went from 8k tokens to 128k tokens (think of this as ~300 pages of text worth of input). This means what yo can put into a prompt just went up dramatically\n",
            "2. Costs decreasing: GPT 4 Turbo is 3x cheaper for input tokens (think of this as roughly the length of the prompt) and 2x cheaper for output tokens. This equa to $0.01 per 1k input tokens, and $0.03 per 1k output tokens. On a blended bas GPT 4 Turbo is roughly 2.5-3x cheaper than GPT 4.\n",
            "e “It looks like we've hit an inflection point. It looks like there's a lot less overhang now in terms of what needs to be optimized or could be optimize customers. It looks like also optimization is less intense and less widesprea across the customer base.”\n",
            "e “We had a very healthy start to Q4 in October...the trends we see in early Q stronger than they've been for the past year.”\n",
            "e “As we look at our overall customer activity, we continue to see customers optimizing but with less impact than we experienced in Q2, contributing t: usage growth with existing customers improving in Q3 relative to Q2.”\n",
            "e “Asa reminder, last quarter, we discussed a cohort of customers who begar optimizing about a year ago and we said that they appear to stabilize their growth at the end of Q2. That trend has held for the past several months w that cohorts usage remaining stable throughout Q3.”\n",
            "@ Overall Median: 5.0x\n",
            "© Top 5 Median: 14.5x\n",
            "e 10Y: 4.6%\n",
            "¢ High Growth Median: 11.8x\n",
            "e¢ Mid Growth Median: 7.4x\n",
            "© Median NTM growth rate: 15%\n",
            "® Median LTM growth rate: 21%\n",
            "e Median Gross Margin: 75%\n",
            "e Median Operating Margin (18%)\n",
            "e Median FCF Margin: 8%\n",
            "e Median Net Retention: 114%\n",
            "e Median CAC Payback: 35 months\n",
            "e Median S&M % Revenue: 42%\n",
            "e Median R&D % Revenue: 26%\n",
            "e Median G&A % Revenue: 17%\n"
          ]
        }
      ]
    },
    {
      "cell_type": "code",
      "source": [
        "for item in NarrativeText:\n",
        "  print(item.text)"
      ],
      "metadata": {
        "colab": {
          "base_uri": "https://localhost:8080/"
        },
        "id": "b_ep5qpXj_JN",
        "outputId": "c4c9329a-9a92-4c67-c850-4496467a1286"
      },
      "execution_count": 12,
      "outputs": [
        {
          "output_type": "stream",
          "name": "stdout",
          "text": [
            "JAMIN BALL\n",
            "Every week I’ll provide updates on the latest trends in cloud software companies. Follow along to stay up to date!\n",
            "OpenAI had their big developer day this week, and I wanted to call out two key announcements (and trends): increasing context windows and decreasing costs.\n",
            "When I think about the monetization of AI (and which “layers” monetize first) I’ve always thought it would follow the below order, with each layer lagging the one th comes before it.\n",
            "We've clearly well underway of the first 3 layers monetizing. Just starting the fourt layer, with the fifth layer showing up in some pockets, but not really widespread monetization (and I should clarify - scalable monetization). The caveat is importar I’ve heard of a well known company that had an offshore team handling lots of ma customer work (ie responses). And this “product” had a ~50% gross margin. When\n",
            "https://cloudedjudgement.substack.com/p/clouded-judgement-111023\n",
            "Share\n",
            "1/14\n",
            "started using large language models from OpenAI, the gross margin on the same product went to -100%! (yes, that’s negative 100%). While the product was “moneti: I wouldn’t count it as scalable monetization.\n",
            "We haven’t quite yet cracked AI used in production in widespread fashion. There : many limiters here - data security and compliance are big ones. But even more important right now is cost. At the end of the day, these large language models are quite expensive! And as a vendor using them, you can either pass through the cost your end customer (to maintain your gross margins), or eat the costs and lower you gross margins (because the customer isn’t willing to pay the incremental cost for incremental functionality brought about by AI), and hope the model providers low their costs in the future. It seems like every company has been experimenting. Say things like “just build out all the AI functionality now and then we'll evaluate if customers will pay for it.” Now that we're getting through this initial wave of experimentation and AI buildout, there’s quite a bit of sticker shock when the Ops bills come due! People are looking to build in model portability to enable them to switch to lower cost models (or open source).\n",
            "This brings me back to the initial point - the two announcements from OpenAI I) to highlight here.\n",
            "The cost decrease is very meaningful - it’s lowers the barrier to experiment with A and also lowers the barrier for these AI functionalities to be pushed into producti (because vendors don’t have to increase price nearly as much). Also - As Moin poir out on Twitter / X, as context windows increase the need for task / domain-specifi models (or fine-tuned models) decreases. The counter argument to this is will we t\n",
            "https://cloudedjudgement.substack.com/p/clouded-judgement-111023\n",
            "2/14\n",
            "able to find enough high quality long context training data. Either way - it’s clear | models are becoming cheaper and more effective, which is an exciting future for / think we’re about to see an explosion of good business model AI applications in the future. 2024 will be the year of AI applications!\n",
            "This week software stocks shot up on Tuesday, largely a result of Datadog’s quarte earnings. Datadog in particular was up ~30%. So what happened? They made a nui of comments about optimizations easing up, and the worst being behind us. Here some quotes:\n",
            "Datadog was one of the first companies to really highlight an improving macro environment. And even more important, they called out a great month of October month of Q4 for them). So how do we contrast their positive commentary, with lar neutral commentary from the rest of the software universe? Most likely Datadog i: seeing trends more unique to their own business. As the market puts a greater emphasis on bundled platforms today vs point solutions, they appear to be an incremental winner of market share. Best of breed platforms (with more of a usage\n",
            "https://cloudedjudgement.substack.com/p/clouded-judgement-111023\n",
            "3/14\n",
            "based model) will recover first (in terms of revenue growth recovery). Datadog app to be in that bucket and recovering first. This doesn’t mean the rest of the softwar universe will follow suite. There will be many “pretenders” who never recover and themselves bundled into oblivion. However, the positive commentary from Datadc the first sign that we're starting to turn a corner. So while the rest of the software universe may not be at that corner today, we're starting to see the light at the end « the tunnel.\n",
            "https://cloudedjudgement.substack.com/p/clouded-judgement-111023\n",
            "414\n",
            "SaaS businesses are generally valued on a multiple of their revenue - in most cases projected revenue for the next 12 months. Revenue multiples are a shorthand valu: framework. Given most software companies are not profitable, or not generating meaningful FCF, it’s the only metric to compare the entire industry against. Even\n",
            "https://cloudedjudgement.substack.com/p/clouded-judgement-111023\n",
            "5/14\n",
            "DCF is riddled with long term assumptions. The promise of SaaS is that growth ir early years leads to profits in the mature years. Multiples shown below are calcula by taking the Enterprise Value (market cap + debt - cash) / NTM revenue.\n",
            "Overall Stats:\n",
            "25.0x\n",
            "Clouded Judgement @jaminball\n",
            "https://cloudedjudgement.substack.com/p/clouded-judgement-111023\n",
            "6/14\n",
            "Clouded Judgement @jaminball\n",
            "Bucketed by Growth. In the buckets below I consider high growth >30% projected NTM growth, mid growth 15%-30% and low growth <15%\n",
            "Clouded Judgement @jaminball\n",
            "https://cloudedjudgement.substack.com/p/clouded-judgement-111023\n",
            "74\n",
            "The below chart shows the EV / NTM revenue multiple divided by NTM consensu growth expectations. So a company trading at 20x NTM revenue that is projected grow 100% would be trading at 0.2x. The goal of this graph is to show how relative cheap / expensive each stock is relative to their growth expectations\n",
            "Median EV / NTM Revenue / NTM Growth Multiples\n",
            "https://cloudedjudgement.substack.com/p/clouded-judgement-111023\n",
            "8/14\n",
            "Growth Adjusted EV / NTM Revenue (EV / NTM Rev / NTM Growth)\n",
            "The line chart shows the median of all companies with a FCF multiple >0x and <1( created this subset to show companies where FCF is a relevant valuation metric.\n",
            "https://cloudedjudgement.substack.com/p/clouded-judgement-111023\n",
            "9/14\n",
            "How correlated is growth to valuation multiple?\n",
            "https://cloudedjudgement.substack.com/p/clouded-judgement-111023\n",
            "10/14\n",
            "Rule of 40 shows rev growth + FCF margin (both LTM and NTM for growth + margins). FCF calculated as Cash Flow from Operations - Capital Expenditures\n",
            "GM Adjusted Payback is calculated as: (Previous Q S&M) / (Net New ARR in Q x C Margin) x 12. It shows the number of months it takes for a SaaS business to payba their fully burdened CAC ona gross profit basis. Most public companies don’t rep net new ARR, so I’m taking an implied ARR metric (quarterly subscription revenu 4). Net new ARR is simply the ARR of the current quarter, minus the ARR of the previous quarter. Companies that do not disclose subscription rev have been left o the analysis and are listed as NA.\n",
            "11/14\n",
            "The information presented in this newsletter is the opinion of the author and doe: necessarily reflect the view of any other person or entity, including Altimeter Cap: Management, LP (\"Altimeter\"). The information provided is believed to be from reliable sources but no liability is accepted for any inaccuracies. This is for information purposes and should not be construed as an investment recommenda Past performance is no guarantee of future performance. Altimeter is an investme adviser registered with the U.S. Securities and Exchange Commission. Registratio does not imply a certain level of skill or training.\n",
            "This post and the information presented are intended for informational purpose only. The views expressed herein are the author’s alone and do not constitute an o to sell, or a recommendation to purchase, or a solicitation of an offer to buy, any security, nor a recommendation for any investment product or service. While cert information contained herein has been obtained from sources believed to be relial\n",
            "12/14\n",
            "neither the author nor any of his employers or their affiliates have independently verified this information, and its accuracy and completeness cannot be guaranteec Accordingly, no representation or warranty, express or implied, is made as to, and reliance should be placed on, the fairness, accuracy, timeliness or completeness of information. The author and all employers and their affiliated persons assume no liability for this information and no obligation to update the information or analy: contained herein in the future.\n",
            "42 Likes - 4 Restacks\n",
            "Discussion about this post\n",
            "Write a comment...\n",
            "Stefan Waldhauser @ High Growth Investing 12 Nov 2023\n",
            "Thank you for your interesting thoughts regarding the monetization layers of Al. Really inspirin Q LUKE (1) (© REPLY\n",
            "Matthew Harris Agora 10 Nov 2023\n",
            "Good stuff as always. Your point about the reduced costs per token is interesting and hopefully companies to experiment with Al more in their workflows\n",
            "Q LIKE (1) (© REPLY\n",
            "https://cloudedjudgement.substack.com/p/clouded-judgement-111023\n",
            "13/14\n",
            "© 2025 Jamin Ball - Privacy - Terms - Collection notice Substack is the home for great culture\n",
            "https://cloudedjudgement.substack.com/p/clouded-judgement-111023\n",
            "14/14\n"
          ]
        }
      ]
    },
    {
      "cell_type": "code",
      "source": [
        "img = []\n",
        "for element in raw_pdf_elements:\n",
        "  if \"unstructured.documents.elements.Image\" in str(type(element)):\n",
        "    img.append(str(element))"
      ],
      "metadata": {
        "id": "Psuc112loJlg"
      },
      "execution_count": 13,
      "outputs": []
    },
    {
      "cell_type": "code",
      "source": [
        "img"
      ],
      "metadata": {
        "colab": {
          "base_uri": "https://localhost:8080/"
        },
        "id": "4IofHKvbrSAS",
        "outputId": "3ee24fba-99fd-4aca-90aa-084f9ea93029"
      },
      "execution_count": 14,
      "outputs": [
        {
          "output_type": "execute_result",
          "data": {
            "text/plain": [
              "['QD 42 D2 4',\n",
              " '20.0x 15.0x 10.0x 5.0x 0.0x',\n",
              " '90.0x 80.0x 70.0x 60.0x 50.0x 40.0x 30.0x 20.0x 10.0x 0.0x',\n",
              " '45.0x 40.0x 35.0x 30.0x 25.0x 20.0x 15.0x 10.0x 5.0x 0.0x',\n",
              " '10x 9x 9 10% 10x] 4, 9x & | & BK & | % mx = | x 1 ie oe 6 KG ge o es x9 ses oe. a 7. x x Hn Th YW ax ax ax we TT gga ae Clouded Judgement gjaminbalt 2 * ALTI',\n",
              " '1.0x 0.9x 0.8x 0.7x 0.6x 0.5x 0.4x 0.3x 0.2x 0.1x 0.0x Jan-15 Aug-15 Mar-16 Oct-16 May-17 Dec-17 Jul-18 Feb-19 Sep-19 Apr-20 Nov-20 Jun-21 Jan-22 Aug-22 Mar-23 Oct-2',\n",
              " 'Lx 10x 08x osx osx 08x | o.7p.7% osx 0.6% 06x. ax 02x ro Monday.com [8 0. Ox O28 02x | 02x wiiti 0.3x\"\\'0.3x)) 02x) 0.2x| | 02 0x I ik il & = = 2x Tenable Approlio LT Wix.com Smartsheet ME PagerDuty Clouded Judgement @jaminball ALTIN',\n",
              " '70.0x 60.0x 50.0x 40.0x 30.0x ‘ 20.0x 10.0x -Ox 1/1/15 1/1/16 1/1/17 1/1/18 1/19 1/1/20 1/1/21 1/1/22 1/1/23 === FCF Positive & <100x Multiple Median ——LT Average Clouded Judgement @jaminball ALTIME',\n",
              " '50x 100% pay 350 300x 250 200 1504 100% 50x be oo $3 a ash x $ PE FF EEE EEE PS FP FS SP EIS TEI SESE OSS en on LPL “se OSS ‘8 te 3 ° fae $ + es or FEI IE EEIS er? o Yow ‘so Korey Vr Clouded Judgement @jaminbalt $ SF gt PS CS SSS FS So, PHP OR RS Wy wee we SF SK, ees # & * ALT',\n",
              " '18x 16x 14x sose e 12x 10x aus, & ADSK® om asan 6 i . ex. oe oun eu ax 28K nox we CSome Me da ery os 9 HD, BASE @ same 2 0 na © Bae ° cry Pace Sonos? e e ao ouw, Twou a Ox (5%) 0% 5% 10% 15% 20% 25% Clouded Judgement @jaminball 30% ALTI',\n",
              " '4 il an & @ D - HD',\n",
              " 'B']"
            ]
          },
          "metadata": {},
          "execution_count": 14
        }
      ]
    },
    {
      "cell_type": "code",
      "source": [
        "raw_pdf_elements2 = partition_pdf(\n",
        "    filename = \"/content/data2/2407.13193v3.pdf\",\n",
        "    strategy = \"hi_res\",\n",
        "    extract_images_in_pdf=True,\n",
        "    extract_image_block_types=[\"Image\",\"Table\"],\n",
        "    extract_image_block_to_payload=False,\n",
        "    extract_image_block_output_dir=\"extracted_data\"\n",
        ")"
      ],
      "metadata": {
        "colab": {
          "base_uri": "https://localhost:8080/"
        },
        "id": "WMwZ2HNbmvNU",
        "outputId": "4bd68c25-5ea1-452d-b116-65e111119ca2"
      },
      "execution_count": 15,
      "outputs": [
        {
          "output_type": "stream",
          "name": "stdout",
          "text": [
            "Warning: No languages specified, defaulting to English.\n"
          ]
        }
      ]
    },
    {
      "cell_type": "code",
      "source": [
        "raw_pdf_elements2"
      ],
      "metadata": {
        "colab": {
          "base_uri": "https://localhost:8080/"
        },
        "id": "UDiI2FFNqsyJ",
        "outputId": "3a64c1c8-f67b-4f86-e086-0ca012664445"
      },
      "execution_count": 16,
      "outputs": [
        {
          "output_type": "execute_result",
          "data": {
            "text/plain": [
              "[<unstructured.documents.elements.Text at 0x79c5d0116840>,\n",
              " <unstructured.documents.elements.Text at 0x79c5d0116d20>,\n",
              " <unstructured.documents.elements.Text at 0x79c5d0115130>,\n",
              " <unstructured.documents.elements.Text at 0x79c5d0117860>,\n",
              " <unstructured.documents.elements.Header at 0x79c5d0117a40>,\n",
              " <unstructured.documents.elements.Text at 0x79c5d0114620>,\n",
              " <unstructured.documents.elements.Text at 0x79c5d0115910>,\n",
              " <unstructured.documents.elements.Text at 0x79c5d0114110>,\n",
              " <unstructured.documents.elements.Text at 0x79c5d0116180>,\n",
              " <unstructured.documents.elements.Text at 0x79c5d01141a0>,\n",
              " <unstructured.documents.elements.Text at 0x79c5d0116d50>,\n",
              " <unstructured.documents.elements.Text at 0x79c5d0114f20>,\n",
              " <unstructured.documents.elements.Text at 0x79c5d0115160>,\n",
              " <unstructured.documents.elements.Title at 0x79c5e3a2a3c0>,\n",
              " <unstructured.documents.elements.NarrativeText at 0x79c5e341be90>,\n",
              " <unstructured.documents.elements.NarrativeText at 0x79c5e4fcd880>,\n",
              " <unstructured.documents.elements.NarrativeText at 0x79c5d0115280>,\n",
              " <unstructured.documents.elements.NarrativeText at 0x79c5d01153d0>,\n",
              " <unstructured.documents.elements.NarrativeText at 0x79c5d0116360>,\n",
              " <unstructured.documents.elements.Text at 0x79c5d01171d0>,\n",
              " <unstructured.documents.elements.NarrativeText at 0x79c5d01150a0>,\n",
              " <unstructured.documents.elements.NarrativeText at 0x79c5d0116b10>,\n",
              " <unstructured.documents.elements.NarrativeText at 0x79c5d0117f20>,\n",
              " <unstructured.documents.elements.NarrativeText at 0x79c5d0114b00>,\n",
              " <unstructured.documents.elements.NarrativeText at 0x79c5d0117ce0>,\n",
              " <unstructured.documents.elements.NarrativeText at 0x79c5d0115490>,\n",
              " <unstructured.documents.elements.Title at 0x79c5d0117aa0>,\n",
              " <unstructured.documents.elements.Title at 0x79c5d01146e0>,\n",
              " <unstructured.documents.elements.NarrativeText at 0x79c5d0117620>,\n",
              " <unstructured.documents.elements.Title at 0x79c5d0116510>,\n",
              " <unstructured.documents.elements.NarrativeText at 0x79c5d01144d0>,\n",
              " <unstructured.documents.elements.NarrativeText at 0x79c5d01146b0>,\n",
              " <unstructured.documents.elements.NarrativeText at 0x79c5d0116660>,\n",
              " <unstructured.documents.elements.NarrativeText at 0x79c5d01145c0>,\n",
              " <unstructured.documents.elements.Title at 0x79c5d0114cb0>,\n",
              " <unstructured.documents.elements.NarrativeText at 0x79c5d01160f0>,\n",
              " <unstructured.documents.elements.NarrativeText at 0x79c5d0115550>,\n",
              " <unstructured.documents.elements.ListItem at 0x79c5d0114d10>,\n",
              " <unstructured.documents.elements.ListItem at 0x79c5d0115100>,\n",
              " <unstructured.documents.elements.Footer at 0x79c5d0116210>,\n",
              " <unstructured.documents.elements.ListItem at 0x79c5d0115ca0>,\n",
              " <unstructured.documents.elements.Image at 0x79c5e40392e0>,\n",
              " <unstructured.documents.elements.Text at 0x79c5d0114bf0>,\n",
              " <unstructured.documents.elements.Image at 0x79c5d271d8e0>,\n",
              " <unstructured.documents.elements.Image at 0x79c5e25b3bf0>,\n",
              " <unstructured.documents.elements.Text at 0x79c5d2979b50>,\n",
              " <unstructured.documents.elements.Text at 0x79c5e3cc1880>,\n",
              " <unstructured.documents.elements.Text at 0x79c5d28c8920>,\n",
              " <unstructured.documents.elements.Text at 0x79c5d28caba0>,\n",
              " <unstructured.documents.elements.Text at 0x79c5e565ab70>,\n",
              " <unstructured.documents.elements.Text at 0x79c5e3fb06b0>,\n",
              " <unstructured.documents.elements.Text at 0x79c5d299b7d0>,\n",
              " <unstructured.documents.elements.Text at 0x79c5e4ac2690>,\n",
              " <unstructured.documents.elements.Text at 0x79c5e4ac2db0>,\n",
              " <unstructured.documents.elements.Text at 0x79c5e4ac00e0>,\n",
              " <unstructured.documents.elements.Text at 0x79c5e4ac2990>,\n",
              " <unstructured.documents.elements.Text at 0x79c5e42bc200>,\n",
              " <unstructured.documents.elements.Text at 0x79c5e4ac0d10>,\n",
              " <unstructured.documents.elements.Text at 0x79c5e3cc21b0>,\n",
              " <unstructured.documents.elements.Text at 0x79c5e3cc2a80>,\n",
              " <unstructured.documents.elements.Image at 0x79c5d01168d0>,\n",
              " <unstructured.documents.elements.Image at 0x79c5d0116ab0>,\n",
              " <unstructured.documents.elements.Image at 0x79c5d0117e30>,\n",
              " <unstructured.documents.elements.Text at 0x79c5e22c6a50>,\n",
              " <unstructured.documents.elements.Image at 0x79c5e25b0080>,\n",
              " <unstructured.documents.elements.Image at 0x79c5d0115af0>,\n",
              " <unstructured.documents.elements.Image at 0x79c5d0117230>,\n",
              " <unstructured.documents.elements.Text at 0x79c5e3fb0b30>,\n",
              " <unstructured.documents.elements.Text at 0x79c5d299be30>,\n",
              " <unstructured.documents.elements.Text at 0x79c5d299af90>,\n",
              " <unstructured.documents.elements.Text at 0x79c5d299b0e0>,\n",
              " <unstructured.documents.elements.Text at 0x79c5d2998410>,\n",
              " <unstructured.documents.elements.Text at 0x79c5d2999490>,\n",
              " <unstructured.documents.elements.Text at 0x79c5d2998890>,\n",
              " <unstructured.documents.elements.Image at 0x79c5d0115340>,\n",
              " <unstructured.documents.elements.Image at 0x79c5d0117b00>,\n",
              " <unstructured.documents.elements.Image at 0x79c5d01167b0>,\n",
              " <unstructured.documents.elements.Text at 0x79c5d299a720>,\n",
              " <unstructured.documents.elements.FigureCaption at 0x79c5d0114950>,\n",
              " <unstructured.documents.elements.ListItem at 0x79c5d01165a0>,\n",
              " <unstructured.documents.elements.NarrativeText at 0x79c5d0114170>,\n",
              " <unstructured.documents.elements.Formula at 0x79c5d0114200>,\n",
              " <unstructured.documents.elements.NarrativeText at 0x79c5d01165d0>,\n",
              " <unstructured.documents.elements.Title at 0x79c5d0114e60>,\n",
              " <unstructured.documents.elements.NarrativeText at 0x79c5d0114fb0>,\n",
              " <unstructured.documents.elements.Text at 0x79c5d01140e0>,\n",
              " <unstructured.documents.elements.Formula at 0x79c5d0116150>,\n",
              " <unstructured.documents.elements.NarrativeText at 0x79c5d01171a0>,\n",
              " <unstructured.documents.elements.NarrativeText at 0x79c5d0116f60>,\n",
              " <unstructured.documents.elements.NarrativeText at 0x79c5d0115ee0>,\n",
              " <unstructured.documents.elements.Footer at 0x79c5d0115eb0>,\n",
              " <unstructured.documents.elements.Image at 0x79c5e25b3dd0>,\n",
              " <unstructured.documents.elements.FigureCaption at 0x79c5d0116c30>,\n",
              " <unstructured.documents.elements.NarrativeText at 0x79c5d01149e0>,\n",
              " <unstructured.documents.elements.NarrativeText at 0x79c5d0114560>,\n",
              " <unstructured.documents.elements.NarrativeText at 0x79c5d0117d40>,\n",
              " <unstructured.documents.elements.NarrativeText at 0x79c5e4ac29c0>,\n",
              " <unstructured.documents.elements.NarrativeText at 0x79c5e4f9fce0>,\n",
              " <unstructured.documents.elements.Title at 0x79c5d28c9280>,\n",
              " <unstructured.documents.elements.NarrativeText at 0x79c5e3fb0e30>,\n",
              " <unstructured.documents.elements.Title at 0x79c5d0116000>,\n",
              " <unstructured.documents.elements.NarrativeText at 0x79c5d0114dd0>,\n",
              " <unstructured.documents.elements.NarrativeText at 0x79c5d299a120>,\n",
              " <unstructured.documents.elements.ListItem at 0x79c5d0114230>,\n",
              " <unstructured.documents.elements.ListItem at 0x79c5e3cc1310>,\n",
              " <unstructured.documents.elements.ListItem at 0x79c5e2016b10>,\n",
              " <unstructured.documents.elements.NarrativeText at 0x79c5d0116db0>,\n",
              " <unstructured.documents.elements.NarrativeText at 0x79c5d0115a60>,\n",
              " <unstructured.documents.elements.Footer at 0x79c5d299bc50>,\n",
              " <unstructured.documents.elements.NarrativeText at 0x79c5e4f9f5f0>,\n",
              " <unstructured.documents.elements.NarrativeText at 0x79c5d271e3f0>,\n",
              " <unstructured.documents.elements.NarrativeText at 0x79c5d0115730>,\n",
              " <unstructured.documents.elements.ListItem at 0x79c5d299a540>,\n",
              " <unstructured.documents.elements.ListItem at 0x79c5d299a990>,\n",
              " <unstructured.documents.elements.ListItem at 0x79c5d299a5d0>,\n",
              " <unstructured.documents.elements.NarrativeText at 0x79c5d299b6b0>,\n",
              " <unstructured.documents.elements.NarrativeText at 0x79c5d29986e0>,\n",
              " <unstructured.documents.elements.ListItem at 0x79c5d299a780>,\n",
              " <unstructured.documents.elements.ListItem at 0x79c5e19577a0>,\n",
              " <unstructured.documents.elements.Footer at 0x79c5d2998950>,\n",
              " <unstructured.documents.elements.NarrativeText at 0x79c5e22c7290>,\n",
              " <unstructured.documents.elements.ListItem at 0x79c5d0117e00>,\n",
              " <unstructured.documents.elements.NarrativeText at 0x79c5d0115970>,\n",
              " <unstructured.documents.elements.NarrativeText at 0x79c5d299a4b0>,\n",
              " <unstructured.documents.elements.NarrativeText at 0x79c5d299ad80>,\n",
              " <unstructured.documents.elements.NarrativeText at 0x79c5d299ac60>,\n",
              " <unstructured.documents.elements.NarrativeText at 0x79c5e4ac32f0>,\n",
              " <unstructured.documents.elements.NarrativeText at 0x79c5d299b830>,\n",
              " <unstructured.documents.elements.ListItem at 0x79c5d2986300>,\n",
              " <unstructured.documents.elements.ListItem at 0x79c5d28177d0>,\n",
              " <unstructured.documents.elements.ListItem at 0x79c5d2815eb0>,\n",
              " <unstructured.documents.elements.NarrativeText at 0x79c5d28147a0>,\n",
              " <unstructured.documents.elements.NarrativeText at 0x79c5d28149b0>,\n",
              " <unstructured.documents.elements.Footer at 0x79c5d2815c40>,\n",
              " <unstructured.documents.elements.Title at 0x79c5d0117bf0>,\n",
              " <unstructured.documents.elements.ListItem at 0x79c5d299b950>,\n",
              " <unstructured.documents.elements.ListItem at 0x79c5d2998bc0>,\n",
              " <unstructured.documents.elements.ListItem at 0x79c5d299a600>,\n",
              " <unstructured.documents.elements.ListItem at 0x79c5e1956d20>,\n",
              " <unstructured.documents.elements.Text at 0x79c5e19557f0>,\n",
              " <unstructured.documents.elements.ListItem at 0x79c5e3ff06e0>,\n",
              " <unstructured.documents.elements.ListItem at 0x79c5e19561b0>,\n",
              " <unstructured.documents.elements.Text at 0x79c5e1956ea0>,\n",
              " <unstructured.documents.elements.Text at 0x79c5d27c9100>,\n",
              " <unstructured.documents.elements.Text at 0x79c5e1957800>,\n",
              " <unstructured.documents.elements.ListItem at 0x79c5d27ca1e0>,\n",
              " <unstructured.documents.elements.ListItem at 0x79c5e1bad3a0>,\n",
              " <unstructured.documents.elements.Text at 0x79c5d27c9cd0>,\n",
              " <unstructured.documents.elements.ListItem at 0x79c5e1baf140>,\n",
              " <unstructured.documents.elements.ListItem at 0x79c5e1c04aa0>,\n",
              " <unstructured.documents.elements.ListItem at 0x79c5e1bade20>,\n",
              " <unstructured.documents.elements.ListItem at 0x79c5e2dcc7d0>,\n",
              " <unstructured.documents.elements.ListItem at 0x79c5e2dce510>,\n",
              " <unstructured.documents.elements.ListItem at 0x79c5e2dcfc50>,\n",
              " <unstructured.documents.elements.Title at 0x79c5d2815070>,\n",
              " <unstructured.documents.elements.ListItem at 0x79c5d2816390>,\n",
              " <unstructured.documents.elements.ListItem at 0x79c5d2817da0>,\n",
              " <unstructured.documents.elements.NarrativeText at 0x79c5d2816ea0>,\n",
              " <unstructured.documents.elements.ListItem at 0x79c5d2815b20>,\n",
              " <unstructured.documents.elements.ListItem at 0x79c5d28142c0>,\n",
              " <unstructured.documents.elements.ListItem at 0x79c5d2814560>,\n",
              " <unstructured.documents.elements.ListItem at 0x79c5d28157c0>,\n",
              " <unstructured.documents.elements.NarrativeText at 0x79c5d2814c80>,\n",
              " <unstructured.documents.elements.Title at 0x79c5d28167b0>,\n",
              " <unstructured.documents.elements.NarrativeText at 0x79c5d2814bf0>,\n",
              " <unstructured.documents.elements.NarrativeText at 0x79c5d2816c30>,\n",
              " <unstructured.documents.elements.NarrativeText at 0x79c5d2814d10>,\n",
              " <unstructured.documents.elements.NarrativeText at 0x79c5d2816360>,\n",
              " <unstructured.documents.elements.Text at 0x79c5d27ca090>,\n",
              " <unstructured.documents.elements.Image at 0x79c5d299a0c0>,\n",
              " <unstructured.documents.elements.FigureCaption at 0x79c5e3ff02c0>,\n",
              " <unstructured.documents.elements.Title at 0x79c5d27ca180>,\n",
              " <unstructured.documents.elements.Title at 0x79c5e1957f20>,\n",
              " <unstructured.documents.elements.ListItem at 0x79c5e1baeb40>,\n",
              " <unstructured.documents.elements.Text at 0x79c5d271dc10>,\n",
              " <unstructured.documents.elements.ListItem at 0x79c5d27c9e50>,\n",
              " <unstructured.documents.elements.NarrativeText at 0x79c5e2dcc140>,\n",
              " <unstructured.documents.elements.Text at 0x79c5d2999ac0>,\n",
              " <unstructured.documents.elements.ListItem at 0x79c5d2817cb0>,\n",
              " <unstructured.documents.elements.ListItem at 0x79c5e2e50f50>,\n",
              " <unstructured.documents.elements.Text at 0x79c5d28146b0>,\n",
              " <unstructured.documents.elements.Text at 0x79c5e2e53050>,\n",
              " <unstructured.documents.elements.ListItem at 0x79c5e1b05e80>,\n",
              " <unstructured.documents.elements.ListItem at 0x79c5d2817830>,\n",
              " <unstructured.documents.elements.Text at 0x79c5e2e53e90>,\n",
              " <unstructured.documents.elements.ListItem at 0x79c5d2816870>,\n",
              " <unstructured.documents.elements.ListItem at 0x79c5e1b06900>,\n",
              " <unstructured.documents.elements.Text at 0x79c5d2815a90>,\n",
              " <unstructured.documents.elements.NarrativeText at 0x79c5d27e42c0>,\n",
              " <unstructured.documents.elements.NarrativeText at 0x79c5d27e72f0>,\n",
              " <unstructured.documents.elements.NarrativeText at 0x79c5d28147d0>,\n",
              " <unstructured.documents.elements.Title at 0x79c5d27e41d0>,\n",
              " <unstructured.documents.elements.NarrativeText at 0x79c5e4b1af30>,\n",
              " <unstructured.documents.elements.NarrativeText at 0x79c5d28164e0>,\n",
              " <unstructured.documents.elements.NarrativeText at 0x79c5d2817bf0>,\n",
              " <unstructured.documents.elements.NarrativeText at 0x79c5e3fab7d0>,\n",
              " <unstructured.documents.elements.Footer at 0x79c5e3fabdd0>,\n",
              " <unstructured.documents.elements.Title at 0x79c5e565ac30>,\n",
              " <unstructured.documents.elements.ListItem at 0x79c5e2e50dd0>,\n",
              " <unstructured.documents.elements.Text at 0x79c5e23332f0>,\n",
              " <unstructured.documents.elements.Text at 0x79c5e2e51070>,\n",
              " <unstructured.documents.elements.Text at 0x79c5d27e6f90>,\n",
              " <unstructured.documents.elements.Text at 0x79c5d27e6ea0>,\n",
              " <unstructured.documents.elements.ListItem at 0x79c5d27e4680>,\n",
              " <unstructured.documents.elements.ListItem at 0x79c5d27e5a00>,\n",
              " <unstructured.documents.elements.Text at 0x79c5d2816420>,\n",
              " <unstructured.documents.elements.Text at 0x79c5d2817bc0>,\n",
              " <unstructured.documents.elements.Text at 0x79c5d28148c0>,\n",
              " <unstructured.documents.elements.Text at 0x79c5d28142f0>,\n",
              " <unstructured.documents.elements.Text at 0x79c5e3cbfbc0>,\n",
              " <unstructured.documents.elements.Text at 0x79c5e3cbc6b0>,\n",
              " <unstructured.documents.elements.Text at 0x79c5e3cbeed0>,\n",
              " <unstructured.documents.elements.Text at 0x79c5e3cbf170>,\n",
              " <unstructured.documents.elements.Text at 0x79c5e3cbf7d0>,\n",
              " <unstructured.documents.elements.Text at 0x79c5e3cbe3c0>,\n",
              " <unstructured.documents.elements.Text at 0x79c5e3cbd040>,\n",
              " <unstructured.documents.elements.NarrativeText at 0x79c5e3cbd9a0>,\n",
              " <unstructured.documents.elements.Title at 0x79c5e3cbfe60>,\n",
              " <unstructured.documents.elements.NarrativeText at 0x79c5e3cbef60>,\n",
              " <unstructured.documents.elements.NarrativeText at 0x79c5e3cbd160>,\n",
              " <unstructured.documents.elements.NarrativeText at 0x79c5e3cbd400>,\n",
              " <unstructured.documents.elements.NarrativeText at 0x79c5e3cbc6e0>,\n",
              " <unstructured.documents.elements.Title at 0x79c5e3cbd2e0>,\n",
              " <unstructured.documents.elements.NarrativeText at 0x79c5e3cbdeb0>,\n",
              " <unstructured.documents.elements.Footer at 0x79c5e3cbd520>,\n",
              " <unstructured.documents.elements.Title at 0x79c5d2999cd0>,\n",
              " <unstructured.documents.elements.ListItem at 0x79c5e2dcfad0>,\n",
              " <unstructured.documents.elements.Text at 0x79c5d27e6e40>,\n",
              " <unstructured.documents.elements.ListItem at 0x79c5d2815820>,\n",
              " <unstructured.documents.elements.Text at 0x79c5d28145c0>,\n",
              " <unstructured.documents.elements.NarrativeText at 0x79c5e3fabbc0>,\n",
              " <unstructured.documents.elements.ListItem at 0x79c5e3cbd8e0>,\n",
              " <unstructured.documents.elements.NarrativeText at 0x79c5e3cbe600>,\n",
              " <unstructured.documents.elements.NarrativeText at 0x79c5e3cbf9e0>,\n",
              " <unstructured.documents.elements.NarrativeText at 0x79c5e3cbd220>,\n",
              " <unstructured.documents.elements.NarrativeText at 0x79c5e1bad580>,\n",
              " <unstructured.documents.elements.NarrativeText at 0x79c5d2817470>,\n",
              " <unstructured.documents.elements.Title at 0x79c5d27e4500>,\n",
              " <unstructured.documents.elements.NarrativeText at 0x79c5d28166c0>,\n",
              " <unstructured.documents.elements.NarrativeText at 0x79c5e3cbc4d0>,\n",
              " <unstructured.documents.elements.NarrativeText at 0x79c5e3cbd7f0>,\n",
              " <unstructured.documents.elements.Title at 0x79c5e3cbdfd0>,\n",
              " <unstructured.documents.elements.NarrativeText at 0x79c5e3cbd3d0>,\n",
              " <unstructured.documents.elements.Footer at 0x79c5d28c19d0>,\n",
              " <unstructured.documents.elements.NarrativeText at 0x79c5d27e7410>,\n",
              " <unstructured.documents.elements.NarrativeText at 0x79c5d2987e30>,\n",
              " <unstructured.documents.elements.Title at 0x79c5d28148f0>,\n",
              " <unstructured.documents.elements.NarrativeText at 0x79c5e3cbe210>,\n",
              " <unstructured.documents.elements.Title at 0x79c5e3cbd430>,\n",
              " <unstructured.documents.elements.NarrativeText at 0x79c5e3cbdca0>,\n",
              " <unstructured.documents.elements.NarrativeText at 0x79c5e3cbcc50>,\n",
              " <unstructured.documents.elements.Image at 0x79c5d27e5fa0>,\n",
              " <unstructured.documents.elements.FigureCaption at 0x79c5e3cbf920>,\n",
              " <unstructured.documents.elements.NarrativeText at 0x79c5e3cbe4e0>,\n",
              " <unstructured.documents.elements.NarrativeText at 0x79c5e3cbc860>,\n",
              " <unstructured.documents.elements.Title at 0x79c5e3cbd5e0>,\n",
              " <unstructured.documents.elements.NarrativeText at 0x79c5e3cbdac0>,\n",
              " <unstructured.documents.elements.NarrativeText at 0x79c5d28c1cd0>,\n",
              " <unstructured.documents.elements.NarrativeText at 0x79c5d28c15b0>,\n",
              " <unstructured.documents.elements.Footer at 0x79c5d28c3920>,\n",
              " <unstructured.documents.elements.Title at 0x79c5e3cbe180>,\n",
              " <unstructured.documents.elements.NarrativeText at 0x79c5d28c1340>,\n",
              " <unstructured.documents.elements.NarrativeText at 0x79c5d28c2ea0>,\n",
              " <unstructured.documents.elements.NarrativeText at 0x79c5d28c3a40>,\n",
              " <unstructured.documents.elements.NarrativeText at 0x79c5d28c0530>,\n",
              " <unstructured.documents.elements.Title at 0x79c5d28c0ef0>,\n",
              " <unstructured.documents.elements.NarrativeText at 0x79c5d28c3c80>,\n",
              " <unstructured.documents.elements.Title at 0x79c5d28c0620>,\n",
              " <unstructured.documents.elements.NarrativeText at 0x79c5d28c3620>,\n",
              " <unstructured.documents.elements.Footer at 0x79c5d28c2780>,\n",
              " <unstructured.documents.elements.NarrativeText at 0x79c5e3faacc0>,\n",
              " <unstructured.documents.elements.Text at 0x79c5d28c3890>,\n",
              " <unstructured.documents.elements.Formula at 0x79c5d28c2b70>,\n",
              " <unstructured.documents.elements.NarrativeText at 0x79c5d28c2ae0>,\n",
              " <unstructured.documents.elements.NarrativeText at 0x79c5d28c0bc0>,\n",
              " <unstructured.documents.elements.Title at 0x79c5d28c1e80>,\n",
              " <unstructured.documents.elements.NarrativeText at 0x79c5d28c0770>,\n",
              " <unstructured.documents.elements.NarrativeText at 0x79c5d28c3c50>,\n",
              " <unstructured.documents.elements.NarrativeText at 0x79c5e1c073b0>,\n",
              " <unstructured.documents.elements.Title at 0x79c5d28c02c0>,\n",
              " <unstructured.documents.elements.NarrativeText at 0x79c5d28c3440>,\n",
              " <unstructured.documents.elements.NarrativeText at 0x79c5d28c0b00>,\n",
              " <unstructured.documents.elements.Title at 0x79c5d28c12b0>,\n",
              " <unstructured.documents.elements.NarrativeText at 0x79c5d28c26f0>,\n",
              " <unstructured.documents.elements.NarrativeText at 0x79c5d27fcb30>,\n",
              " <unstructured.documents.elements.NarrativeText at 0x79c5d27fdf40>,\n",
              " <unstructured.documents.elements.NarrativeText at 0x79c5d28c1f70>,\n",
              " <unstructured.documents.elements.NarrativeText at 0x79c5d28c3b00>,\n",
              " <unstructured.documents.elements.NarrativeText at 0x79c5d28c24e0>,\n",
              " <unstructured.documents.elements.Title at 0x79c5d28c1640>,\n",
              " <unstructured.documents.elements.NarrativeText at 0x79c5d28c1970>,\n",
              " <unstructured.documents.elements.NarrativeText at 0x79c5d28c1700>,\n",
              " <unstructured.documents.elements.Title at 0x79c5d27fe6f0>,\n",
              " <unstructured.documents.elements.NarrativeText at 0x79c5d27fe630>,\n",
              " <unstructured.documents.elements.NarrativeText at 0x79c5d28c3710>,\n",
              " <unstructured.documents.elements.NarrativeText at 0x79c5d28c10a0>,\n",
              " <unstructured.documents.elements.Title at 0x79c5d27ff590>,\n",
              " <unstructured.documents.elements.NarrativeText at 0x79c5d27fd310>,\n",
              " <unstructured.documents.elements.NarrativeText at 0x79c5d27ff2f0>,\n",
              " <unstructured.documents.elements.Title at 0x79c5d27fe060>,\n",
              " <unstructured.documents.elements.Title at 0x79c5d27fe870>,\n",
              " <unstructured.documents.elements.NarrativeText at 0x79c5d27fc680>,\n",
              " <unstructured.documents.elements.NarrativeText at 0x79c5d27fff50>,\n",
              " <unstructured.documents.elements.Footer at 0x79c5d27ff020>,\n",
              " <unstructured.documents.elements.NarrativeText at 0x79c5e3cbc3e0>,\n",
              " <unstructured.documents.elements.NarrativeText at 0x79c5d28c2570>,\n",
              " <unstructured.documents.elements.NarrativeText at 0x79c5d27fc320>,\n",
              " <unstructured.documents.elements.Title at 0x79c5d27fd010>,\n",
              " <unstructured.documents.elements.NarrativeText at 0x79c5d27ffd70>,\n",
              " <unstructured.documents.elements.NarrativeText at 0x79c5d27fe750>,\n",
              " <unstructured.documents.elements.NarrativeText at 0x79c5d27ff6e0>,\n",
              " <unstructured.documents.elements.NarrativeText at 0x79c5d28c0c80>,\n",
              " <unstructured.documents.elements.Title at 0x79c5d27fcfb0>,\n",
              " <unstructured.documents.elements.NarrativeText at 0x79c5d27ff500>,\n",
              " <unstructured.documents.elements.Title at 0x79c5d27ffcb0>,\n",
              " <unstructured.documents.elements.NarrativeText at 0x79c5d27fe570>,\n",
              " <unstructured.documents.elements.NarrativeText at 0x79c5d27fdb80>,\n",
              " <unstructured.documents.elements.NarrativeText at 0x79c5d298faa0>,\n",
              " <unstructured.documents.elements.NarrativeText at 0x79c5d298d130>,\n",
              " <unstructured.documents.elements.Footer at 0x79c5d298c680>,\n",
              " <unstructured.documents.elements.NarrativeText at 0x79c5d28c3950>,\n",
              " <unstructured.documents.elements.Title at 0x79c5d27ff110>,\n",
              " <unstructured.documents.elements.NarrativeText at 0x79c5d27ff9e0>,\n",
              " <unstructured.documents.elements.NarrativeText at 0x79c5d27fcf80>,\n",
              " <unstructured.documents.elements.NarrativeText at 0x79c5d27fc860>,\n",
              " <unstructured.documents.elements.NarrativeText at 0x79c5d27fd100>,\n",
              " <unstructured.documents.elements.Title at 0x79c5d27ff0e0>,\n",
              " <unstructured.documents.elements.NarrativeText at 0x79c5d27fdbe0>,\n",
              " <unstructured.documents.elements.NarrativeText at 0x79c5d27fd4c0>,\n",
              " <unstructured.documents.elements.Title at 0x79c5d27fcbc0>,\n",
              " <unstructured.documents.elements.NarrativeText at 0x79c5d298f680>,\n",
              " <unstructured.documents.elements.NarrativeText at 0x79c5d298c500>,\n",
              " <unstructured.documents.elements.NarrativeText at 0x79c5d298e3c0>,\n",
              " <unstructured.documents.elements.NarrativeText at 0x79c5d298e630>,\n",
              " <unstructured.documents.elements.Title at 0x79c5e3909c40>,\n",
              " <unstructured.documents.elements.NarrativeText at 0x79c5e390b320>,\n",
              " <unstructured.documents.elements.NarrativeText at 0x79c5e390baa0>,\n",
              " <unstructured.documents.elements.Footer at 0x79c5e390abd0>,\n",
              " <unstructured.documents.elements.NarrativeText at 0x79c5d27fd760>,\n",
              " <unstructured.documents.elements.Title at 0x79c5d27fd9a0>,\n",
              " <unstructured.documents.elements.NarrativeText at 0x79c5d28c2f30>,\n",
              " <unstructured.documents.elements.Text at 0x79c5d298c170>,\n",
              " <unstructured.documents.elements.Title at 0x79c5d298db50>,\n",
              " <unstructured.documents.elements.NarrativeText at 0x79c5e390aed0>,\n",
              " <unstructured.documents.elements.NarrativeText at 0x79c5d298d2e0>,\n",
              " <unstructured.documents.elements.Title at 0x79c5d27fd370>,\n",
              " <unstructured.documents.elements.ListItem at 0x79c5d27feb10>,\n",
              " <unstructured.documents.elements.ListItem at 0x79c5e390b590>,\n",
              " <unstructured.documents.elements.ListItem at 0x79c5e390bd40>,\n",
              " <unstructured.documents.elements.ListItem at 0x79c5d030f500>,\n",
              " <unstructured.documents.elements.ListItem at 0x79c5d030f800>,\n",
              " <unstructured.documents.elements.ListItem at 0x79c5d030fda0>,\n",
              " <unstructured.documents.elements.ListItem at 0x79c5d030fef0>,\n",
              " <unstructured.documents.elements.ListItem at 0x79c5d030c1a0>,\n",
              " <unstructured.documents.elements.ListItem at 0x79c5d030c320>,\n",
              " <unstructured.documents.elements.ListItem at 0x79c5d030c8f0>,\n",
              " <unstructured.documents.elements.ListItem at 0x79c5d030ca40>,\n",
              " <unstructured.documents.elements.ListItem at 0x79c5d030d160>,\n",
              " <unstructured.documents.elements.ListItem at 0x79c5d030ccb0>,\n",
              " <unstructured.documents.elements.ListItem at 0x79c5d030ecf0>,\n",
              " <unstructured.documents.elements.Footer at 0x79c5d030d3d0>,\n",
              " <unstructured.documents.elements.ListItem at 0x79c5d298dc70>,\n",
              " <unstructured.documents.elements.ListItem at 0x79c5e390acf0>,\n",
              " <unstructured.documents.elements.ListItem at 0x79c5e390b500>,\n",
              " <unstructured.documents.elements.ListItem at 0x79c5e390a630>,\n",
              " <unstructured.documents.elements.ListItem at 0x79c5e390a9f0>,\n",
              " <unstructured.documents.elements.ListItem at 0x79c5d030f680>,\n",
              " <unstructured.documents.elements.ListItem at 0x79c5d030f950>,\n",
              " <unstructured.documents.elements.ListItem at 0x79c5d030fa40>,\n",
              " <unstructured.documents.elements.ListItem at 0x79c5d030fc20>,\n",
              " <unstructured.documents.elements.ListItem at 0x79c5d030db20>,\n",
              " <unstructured.documents.elements.ListItem at 0x79c5d030f3e0>,\n",
              " <unstructured.documents.elements.ListItem at 0x79c5d030c4d0>,\n",
              " <unstructured.documents.elements.ListItem at 0x79c5d030c770>,\n",
              " <unstructured.documents.elements.ListItem at 0x79c5d030ce90>,\n",
              " <unstructured.documents.elements.ListItem at 0x79c5d030cfe0>,\n",
              " <unstructured.documents.elements.ListItem at 0x79c5d030c680>,\n",
              " <unstructured.documents.elements.ListItem at 0x79c5d030f2c0>,\n",
              " <unstructured.documents.elements.ListItem at 0x79c5d030e600>,\n",
              " <unstructured.documents.elements.ListItem at 0x79c5d030e030>,\n",
              " <unstructured.documents.elements.ListItem at 0x79c5d27fc6b0>,\n",
              " <unstructured.documents.elements.ListItem at 0x79c5e390be60>,\n",
              " <unstructured.documents.elements.ListItem at 0x79c5d28c1610>,\n",
              " <unstructured.documents.elements.ListItem at 0x79c5d030fd10>,\n",
              " <unstructured.documents.elements.ListItem at 0x79c5d030ebd0>,\n",
              " <unstructured.documents.elements.ListItem at 0x79c5d030c890>,\n",
              " <unstructured.documents.elements.ListItem at 0x79c5d030d220>,\n",
              " <unstructured.documents.elements.ListItem at 0x79c5d030d6a0>,\n",
              " <unstructured.documents.elements.ListItem at 0x79c5d030d910>,\n",
              " <unstructured.documents.elements.ListItem at 0x79c5d030de80>,\n",
              " <unstructured.documents.elements.ListItem at 0x79c5d030d550>,\n",
              " <unstructured.documents.elements.ListItem at 0x79c5d030e750>,\n",
              " <unstructured.documents.elements.ListItem at 0x79c5d030ea50>,\n",
              " <unstructured.documents.elements.ListItem at 0x79c5d030ee10>,\n",
              " <unstructured.documents.elements.ListItem at 0x79c5d030e360>,\n",
              " <unstructured.documents.elements.ListItem at 0x79c5d2759f10>,\n",
              " <unstructured.documents.elements.ListItem at 0x79c5d275a9f0>,\n",
              " <unstructured.documents.elements.ListItem at 0x79c5d275a270>,\n",
              " <unstructured.documents.elements.ListItem at 0x79c5d275b230>,\n",
              " <unstructured.documents.elements.ListItem at 0x79c5d2759670>,\n",
              " <unstructured.documents.elements.ListItem at 0x79c5d27580b0>,\n",
              " <unstructured.documents.elements.ListItem at 0x79c5d275a8a0>,\n",
              " <unstructured.documents.elements.ListItem at 0x79c5d29f7920>,\n",
              " <unstructured.documents.elements.ListItem at 0x79c5d29f75c0>,\n",
              " <unstructured.documents.elements.Footer at 0x79c5d29f6cf0>,\n",
              " <unstructured.documents.elements.NarrativeText at 0x79c5e3908800>,\n",
              " <unstructured.documents.elements.ListItem at 0x79c5d030f590>,\n",
              " <unstructured.documents.elements.ListItem at 0x79c5d030ed50>,\n",
              " <unstructured.documents.elements.ListItem at 0x79c5d030c380>,\n",
              " <unstructured.documents.elements.ListItem at 0x79c5d030cf20>,\n",
              " <unstructured.documents.elements.ListItem at 0x79c5d030e630>,\n",
              " <unstructured.documents.elements.ListItem at 0x79c5d030d820>,\n",
              " <unstructured.documents.elements.ListItem at 0x79c5d030dd00>,\n",
              " <unstructured.documents.elements.ListItem at 0x79c5d030e240>,\n",
              " <unstructured.documents.elements.ListItem at 0x79c5d030e510>,\n",
              " <unstructured.documents.elements.ListItem at 0x79c5d030e8d0>,\n",
              " <unstructured.documents.elements.ListItem at 0x79c5d030da00>,\n",
              " <unstructured.documents.elements.ListItem at 0x79c5d030ef00>,\n",
              " <unstructured.documents.elements.ListItem at 0x79c5d030f230>,\n",
              " <unstructured.documents.elements.ListItem at 0x79c5d2759b50>,\n",
              " <unstructured.documents.elements.ListItem at 0x79c5d275be90>,\n",
              " <unstructured.documents.elements.ListItem at 0x79c5d275b530>,\n",
              " <unstructured.documents.elements.ListItem at 0x79c5d275a540>,\n",
              " <unstructured.documents.elements.ListItem at 0x79c5d27592e0>,\n",
              " <unstructured.documents.elements.ListItem at 0x79c5d29f75f0>,\n",
              " <unstructured.documents.elements.ListItem at 0x79c5d030f4a0>,\n",
              " <unstructured.documents.elements.ListItem at 0x79c5d030e660>,\n",
              " <unstructured.documents.elements.ListItem at 0x79c5d030e120>,\n",
              " <unstructured.documents.elements.ListItem at 0x79c5d030df40>,\n",
              " <unstructured.documents.elements.ListItem at 0x79c5d275b8f0>,\n",
              " <unstructured.documents.elements.ListItem at 0x79c5d2759bb0>,\n",
              " <unstructured.documents.elements.ListItem at 0x79c5d29f4e30>,\n",
              " <unstructured.documents.elements.ListItem at 0x79c5d29f62a0>,\n",
              " <unstructured.documents.elements.ListItem at 0x79c5d29f4200>,\n",
              " <unstructured.documents.elements.ListItem at 0x79c5d29f6b10>,\n",
              " <unstructured.documents.elements.ListItem at 0x79c5d29f7d70>,\n",
              " <unstructured.documents.elements.ListItem at 0x79c5d29f6990>,\n",
              " <unstructured.documents.elements.ListItem at 0x79c5d29f6cc0>,\n",
              " <unstructured.documents.elements.ListItem at 0x79c5d29f4da0>,\n",
              " <unstructured.documents.elements.ListItem at 0x79c5d29f4410>,\n",
              " <unstructured.documents.elements.ListItem at 0x79c5d29f6f60>,\n",
              " <unstructured.documents.elements.ListItem at 0x79c5d29f7bf0>,\n",
              " <unstructured.documents.elements.ListItem at 0x79c5d29f73b0>,\n",
              " <unstructured.documents.elements.ListItem at 0x79c5d280a0c0>,\n",
              " <unstructured.documents.elements.ListItem at 0x79c5d2808fe0>,\n",
              " <unstructured.documents.elements.ListItem at 0x79c5d280b890>,\n",
              " <unstructured.documents.elements.ListItem at 0x79c5d28088f0>,\n",
              " <unstructured.documents.elements.Footer at 0x79c5d28093a0>,\n",
              " <unstructured.documents.elements.NarrativeText at 0x79c5d030e0c0>,\n",
              " <unstructured.documents.elements.ListItem at 0x79c5d030e5d0>,\n",
              " <unstructured.documents.elements.ListItem at 0x79c5d030cbc0>,\n",
              " <unstructured.documents.elements.ListItem at 0x79c5d030e4e0>,\n",
              " <unstructured.documents.elements.ListItem at 0x79c5d030e930>,\n",
              " <unstructured.documents.elements.ListItem at 0x79c5d030f1a0>,\n",
              " <unstructured.documents.elements.ListItem at 0x79c5d2759a60>,\n",
              " <unstructured.documents.elements.ListItem at 0x79c5d27591f0>,\n",
              " <unstructured.documents.elements.ListItem at 0x79c5d298fb60>,\n",
              " <unstructured.documents.elements.ListItem at 0x79c5d29f47d0>,\n",
              " <unstructured.documents.elements.ListItem at 0x79c5d29f7770>,\n",
              " <unstructured.documents.elements.ListItem at 0x79c5d29f7380>,\n",
              " <unstructured.documents.elements.ListItem at 0x79c5d29f5970>,\n",
              " <unstructured.documents.elements.ListItem at 0x79c5d29f6c00>,\n",
              " <unstructured.documents.elements.ListItem at 0x79c5d29f4050>,\n",
              " <unstructured.documents.elements.ListItem at 0x79c5d29f5400>,\n",
              " <unstructured.documents.elements.ListItem at 0x79c5d29f4290>,\n",
              " <unstructured.documents.elements.ListItem at 0x79c5d29f6720>,\n",
              " <unstructured.documents.elements.ListItem at 0x79c5d29f5bb0>,\n",
              " <unstructured.documents.elements.ListItem at 0x79c5d280b410>,\n",
              " <unstructured.documents.elements.ListItem at 0x79c5d280a3f0>,\n",
              " <unstructured.documents.elements.ListItem at 0x79c5d280b9e0>,\n",
              " <unstructured.documents.elements.ListItem at 0x79c5d030d7f0>,\n",
              " <unstructured.documents.elements.ListItem at 0x79c5d030df10>,\n",
              " <unstructured.documents.elements.ListItem at 0x79c5d2758170>,\n",
              " <unstructured.documents.elements.ListItem at 0x79c5d29f5760>,\n",
              " <unstructured.documents.elements.ListItem at 0x79c5d29f48f0>,\n",
              " <unstructured.documents.elements.ListItem at 0x79c5d29f7c80>,\n",
              " <unstructured.documents.elements.ListItem at 0x79c5d29f7f80>,\n",
              " <unstructured.documents.elements.ListItem at 0x79c5e39084d0>,\n",
              " <unstructured.documents.elements.ListItem at 0x79c5d2809730>,\n",
              " <unstructured.documents.elements.ListItem at 0x79c5d280ad20>,\n",
              " <unstructured.documents.elements.ListItem at 0x79c5d2808230>,\n",
              " <unstructured.documents.elements.ListItem at 0x79c5d280b560>,\n",
              " <unstructured.documents.elements.ListItem at 0x79c5d280adb0>,\n",
              " <unstructured.documents.elements.ListItem at 0x79c5d280ac30>,\n",
              " <unstructured.documents.elements.ListItem at 0x79c5d2809fa0>,\n",
              " <unstructured.documents.elements.ListItem at 0x79c5d2808920>,\n",
              " <unstructured.documents.elements.ListItem at 0x79c5d2808c50>,\n",
              " <unstructured.documents.elements.ListItem at 0x79c5d2809bb0>,\n",
              " <unstructured.documents.elements.ListItem at 0x79c5d2808410>,\n",
              " <unstructured.documents.elements.ListItem at 0x79c5d28afef0>,\n",
              " <unstructured.documents.elements.Footer at 0x79c5d28af6e0>,\n",
              " <unstructured.documents.elements.NarrativeText at 0x79c5d030e8a0>,\n",
              " <unstructured.documents.elements.ListItem at 0x79c5d2759340>,\n",
              " <unstructured.documents.elements.ListItem at 0x79c5d29f6240>,\n",
              " <unstructured.documents.elements.ListItem at 0x79c5d29f7ef0>,\n",
              " <unstructured.documents.elements.ListItem at 0x79c5d29f59a0>,\n",
              " <unstructured.documents.elements.ListItem at 0x79c5d29f5d30>,\n",
              " <unstructured.documents.elements.ListItem at 0x79c5d2808770>,\n",
              " <unstructured.documents.elements.ListItem at 0x79c5d280b980>,\n",
              " <unstructured.documents.elements.ListItem at 0x79c5d2808bf0>,\n",
              " <unstructured.documents.elements.ListItem at 0x79c5d28089e0>,\n",
              " <unstructured.documents.elements.ListItem at 0x79c5d2809fd0>,\n",
              " <unstructured.documents.elements.ListItem at 0x79c5d2809a90>,\n",
              " <unstructured.documents.elements.ListItem at 0x79c5d280ba70>,\n",
              " <unstructured.documents.elements.ListItem at 0x79c5d280a120>,\n",
              " <unstructured.documents.elements.ListItem at 0x79c5d280af30>,\n",
              " <unstructured.documents.elements.ListItem at 0x79c5d28ac0b0>,\n",
              " <unstructured.documents.elements.ListItem at 0x79c5d29f5340>,\n",
              " <unstructured.documents.elements.ListItem at 0x79c5d2809700>,\n",
              " <unstructured.documents.elements.ListItem at 0x79c5d280b620>,\n",
              " <unstructured.documents.elements.ListItem at 0x79c5d280b050>,\n",
              " <unstructured.documents.elements.ListItem at 0x79c5d280aed0>,\n",
              " <unstructured.documents.elements.ListItem at 0x79c5d28ad6a0>,\n",
              " <unstructured.documents.elements.ListItem at 0x79c5d28ace90>,\n",
              " <unstructured.documents.elements.ListItem at 0x79c5d28ae690>,\n",
              " <unstructured.documents.elements.ListItem at 0x79c5d28ac530>,\n",
              " <unstructured.documents.elements.ListItem at 0x79c5d28ac800>,\n",
              " <unstructured.documents.elements.ListItem at 0x79c5d28ae660>,\n",
              " <unstructured.documents.elements.ListItem at 0x79c5d28afaa0>,\n",
              " <unstructured.documents.elements.ListItem at 0x79c5d28aed20>,\n",
              " <unstructured.documents.elements.ListItem at 0x79c5d28ad250>,\n",
              " <unstructured.documents.elements.ListItem at 0x79c5d28ad7c0>,\n",
              " <unstructured.documents.elements.ListItem at 0x79c5d28ad700>,\n",
              " <unstructured.documents.elements.ListItem at 0x79c5d28d6b10>,\n",
              " <unstructured.documents.elements.ListItem at 0x79c5d28d61b0>,\n",
              " <unstructured.documents.elements.ListItem at 0x79c5d2765cd0>,\n",
              " <unstructured.documents.elements.Footer at 0x79c5d2766e40>,\n",
              " <unstructured.documents.elements.NarrativeText at 0x79c5d29f7f50>,\n",
              " <unstructured.documents.elements.ListItem at 0x79c5d29f6390>,\n",
              " <unstructured.documents.elements.ListItem at 0x79c5d2809760>,\n",
              " <unstructured.documents.elements.ListItem at 0x79c5d2809f10>,\n",
              " <unstructured.documents.elements.ListItem at 0x79c5d2808bc0>,\n",
              " <unstructured.documents.elements.ListItem at 0x79c5d280a810>,\n",
              " <unstructured.documents.elements.ListItem at 0x79c5d030e570>,\n",
              " <unstructured.documents.elements.ListItem at 0x79c5d030c2f0>,\n",
              " <unstructured.documents.elements.ListItem at 0x79c5d28ad430>,\n",
              " <unstructured.documents.elements.ListItem at 0x79c5d28ac500>,\n",
              " <unstructured.documents.elements.ListItem at 0x79c5d28ad760>,\n",
              " <unstructured.documents.elements.ListItem at 0x79c5d28adfa0>,\n",
              " <unstructured.documents.elements.ListItem at 0x79c5d28ae990>,\n",
              " <unstructured.documents.elements.ListItem at 0x79c5d28afc20>,\n",
              " <unstructured.documents.elements.ListItem at 0x79c5d28af170>,\n",
              " <unstructured.documents.elements.ListItem at 0x79c5d28afd10>,\n",
              " <unstructured.documents.elements.ListItem at 0x79c5d28af3e0>,\n",
              " <unstructured.documents.elements.ListItem at 0x79c5d28d63f0>,\n",
              " <unstructured.documents.elements.ListItem at 0x79c5d2765190>]"
            ]
          },
          "metadata": {},
          "execution_count": 16
        }
      ]
    },
    {
      "cell_type": "code",
      "source": [
        "img = []\n",
        "for element in raw_pdf_elements2:\n",
        "  if \"unstructured.documents.elements.Image\" in str(type(element)):\n",
        "    img.append(str(element))"
      ],
      "metadata": {
        "id": "W9Oe4jRGrCex"
      },
      "execution_count": 17,
      "outputs": []
    },
    {
      "cell_type": "code",
      "source": [
        "img"
      ],
      "metadata": {
        "colab": {
          "base_uri": "https://localhost:8080/"
        },
        "id": "R_fhExpwrt00",
        "outputId": "7a166d91-dd8b-49ca-847b-65f2d2d2ff3e"
      },
      "execution_count": 18,
      "outputs": [
        {
          "output_type": "execute_result",
          "data": {
            "text/plain": [
              "['Datastore',\n",
              " '',\n",
              " '',\n",
              " '',\n",
              " '',\n",
              " '',\n",
              " '',\n",
              " '',\n",
              " '',\n",
              " '©',\n",
              " 'G',\n",
              " '',\n",
              " 'Source Documents Chunks The game began el] portion of the work done on Valkyria Chronicles II standard features of the series , it also underwent multiple adjustments, ‘As with previous Valkyira Chronicles ... such as makin; more forgiving for series 7 neweomers Troops are divided into five classes ... Batch Queries Encoding where did they film ... [0.17 0.45 0.60 0.10 [0.64 0.61 0.90 0.08 --] Query Embeddings ing | The game began development in 2010 ... ing 10.93 049 0.78 080 Chunking [The game began devlopmentin2010... | Encoding [093 049 078 O80 . devlopmen 2m AP While it retained the standard features ... 36 While it seived. the | Sma | It met with positive sales in Japan ,and...| _7p- [0.83 0.75 0.33 0.65 Vector Database Indexing | Building Embeddings [0.94 0.14 0.98 038 [0.70 087 0.23 0.56 [0.37 096 0.28 097 en | — [0.57 051 031 059 [0.98 093 0.64 054 [0.10 0.15 0.64 0.07 Datastore [0.39 068 0.01 0.10 [0.87 0.95 0.25 0.20 (a) Building the retriever. ANN Search Key Ids 04 §19 995 > Top-K Neighbors Post- processing (b) Querying the retriever.',\n",
              " 'Retrieval fusions in RAG  Query-based  Fusions  Logits-based  Fusions  Latent Fusions  Text Concatenation  Feature Concatenation  Ensemble  Calibration  Attention  Weighted Addition  REALM [53]  RAG [95]  REINA [161]  FID [72]  RETRO-  PROMPT [16]  kNN-LM [88]  kNN-MT [87]  kNN-Adapter [68]  Robust-kNN-MT [78]  Source-Context [97]  RETRO [11]  Enc-Dec [101]  LONGMEM [163]  EAE [40]  ReFusion [169]  RALM [133]  LUMEN [27] ',\n",
              " 'RAG without Datastore Update — & Retrieval Fusions Cienernor Zz 8 S 2 5 & (SY (a5 yf forward , | Retriever ¢ I backward , Encoder 8 =i V7 a& Retrieval database ! Fusions operation Indexin: regent |W indexing i) . 1 trainable + | ban stastore 8 Zz se \\' Outputs frozen * c. Jointly training retriever and generator. I RAG with Datastore Update Retriever Trainable Embeddings New Values 24°\" = BONE vpcate New Corpus Insertion nd fi ---------- ~~~ . Updating datastore, then training generator.']"
            ]
          },
          "metadata": {},
          "execution_count": 18
        }
      ]
    },
    {
      "cell_type": "code",
      "source": [
        "text = []\n",
        "for element in raw_pdf_elements2:\n",
        "  if \"unstructured.documents.elements.Text\" in str(type(element)):\n",
        "    text.append(str(element))"
      ],
      "metadata": {
        "id": "TM2WO5ePrHCB"
      },
      "execution_count": 19,
      "outputs": []
    },
    {
      "cell_type": "code",
      "source": [
        "text"
      ],
      "metadata": {
        "colab": {
          "base_uri": "https://localhost:8080/"
        },
        "id": "dzUoJyj2rwA8",
        "outputId": "aa30cac1-9d59-49e1-a2ca-a5894a8aaccb"
      },
      "execution_count": 20,
      "outputs": [
        {
          "output_type": "execute_result",
          "data": {
            "text/plain": [
              "['5',\n",
              " '2025',\n",
              " '2',\n",
              " '0',\n",
              " '2',\n",
              " ':',\n",
              " 'v',\n",
              " 'arXiv',\n",
              " 'i',\n",
              " 'X',\n",
              " 'r',\n",
              " 'a',\n",
              " 'Ye Yuan',\n",
              " 'Retriever ape Caco Encoder Indexing',\n",
              " 'Retrievals',\n",
              " 'is the tallest mountain ... 21: Mount Evere:',\n",
              " '22: The tallest mountain in the world ...',\n",
              " '3: Mount Everest, located on the ...',\n",
              " \"4: Mount Everest's peak is the highes\",\n",
              " 'is best described ... Zs: Mount Evere:',\n",
              " 'q: what is the tallest mountain in the world?',\n",
              " 'Retrieval Fusions Query-based Fusion Zyy Za Zay oo Ze @ What is the tallest mountain ... -——HJ',\n",
              " 'Inputs q',\n",
              " 'Logits-based Fusion',\n",
              " 'What is the tallest mountain ...',\n",
              " 'Inputs q Mount Everest is the tallest mountain ...',\n",
              " 'The tallest mountain in the world ...',\n",
              " 'Generators',\n",
              " 'Mount Evere:',\n",
              " 'Generators 0.01,---,0.95,---',\n",
              " 'Logits l',\n",
              " '0.02, ---, 0.93, ---',\n",
              " 'Logits l',\n",
              " 'a: Mount Everest',\n",
              " 'Latent Fusion Zap Zaye Zig Retrievals 21, ..., 2% Encoder',\n",
              " 'What is the tallest mountain ...§. ———=> Generators',\n",
              " 'Inputs q',\n",
              " 'E---',\n",
              " 'Generator(Retrieval Fusion(𝑞,𝑅𝑞)) → 𝑎𝑛𝑠𝑤𝑒𝑟',\n",
              " '𝑖, . . .,𝑐𝑚',\n",
              " '𝑒𝑗',\n",
              " '/* Encode each chunk 𝑐𝑗',\n",
              " '𝑖 = E(𝑐𝑗',\n",
              " 'The K and V persist in the storage (e.g., SSD) if necessary;',\n",
              " '𝑖 */',\n",
              " 'Output: Generated response 𝑦.',\n",
              " '𝑥 = 𝑣1 ⊕ . . . ⊕ 𝑣𝑘 ⊕ 𝑞; /* Concatenate neighbor texts and query */',\n",
              " '4: else',\n",
              " '𝑒𝑞 = E𝑓 (𝑞),𝑒𝑣𝑗 = E𝑓 (𝑣𝑗 ), 𝑗 ∈ {1, . . .,𝑘};',\n",
              " '𝑦 = D𝑓 (𝑒𝑥 )',\n",
              " '9: return 𝑦;',\n",
              " 'Output: Generated response 𝑦.',\n",
              " '1: 𝑦𝑞 = G(𝑞);',\n",
              " '2: for 𝑗 from 1 to 𝑘 do',\n",
              " '𝑦𝑣𝑗 = G(𝑣𝑗 )',\n",
              " '5: if Use ensemble then',\n",
              " '6:',\n",
              " 'Y=AD; Yo; + (1 - A) yg:',\n",
              " '7: else',\n",
              " '8:',\n",
              " '9:',\n",
              " '𝜆𝑡 = 𝐶𝑎𝑙𝑖𝑏𝑟𝑎𝑡𝑒(𝑦𝑞, 𝑦𝑣1',\n",
              " ', . . ., 𝑦𝑣𝑘 )',\n",
              " 'Y=Ar Lj Yo; + (1 - Av) gs',\n",
              " '10: end if',\n",
              " '11: return 𝑦;',\n",
              " 'Output: Generated response 𝑦.',\n",
              " 'ℎ𝐹',\n",
              " '𝑛',\n",
              " 'interaction capabilities, and adaptability to diverse applications.']"
            ]
          },
          "metadata": {},
          "execution_count": 20
        }
      ]
    },
    {
      "cell_type": "code",
      "source": [
        "tab = []\n",
        "for element in raw_pdf_elements:\n",
        "  if \"unstructured.documents.elements.Table\" in str(type(element)):\n",
        "    tab.append(str(element))"
      ],
      "metadata": {
        "id": "4nAMEZaUWvYu"
      },
      "execution_count": 24,
      "outputs": []
    },
    {
      "cell_type": "code",
      "source": [
        "tab"
      ],
      "metadata": {
        "colab": {
          "base_uri": "https://localhost:8080/"
        },
        "id": "f94q30mXW0vh",
        "outputId": "f9f434bc-ce2a-45ab-edd5-2f5f38d60271"
      },
      "execution_count": 25,
      "outputs": [
        {
          "output_type": "execute_result",
          "data": {
            "text/plain": [
              "['Reported Revenue Next Quarter Rev Actual Consensus A Guidance Consensus On24 $39.2M $38.0M 3.2% $37.3M $35.4M i Squarespace $257.1M $251.8M 21% $262.5M $256.0M 2. Jamf $142.6M $140.0M 1.9% $148.5M $149.1M (0. Kaltura $43.5M $43.1M 1.0% $41.6M $42.2M (1. CS Disco $34.9M $34.1M 2.3% $35.0M $38.8M (9. 2U $229.7M $223.4M 2.8% NA $300.0M t Olo $57.8M $56.3M 27% $58.8M $56.9M sy Alteryx $232.0M $210.3M 10.3% $337.0M $337.8M (0. RingCentral $558.2M $554.0M 08% $570.0M $570.0M 0. Klaviyo $175.8M $167.4M 5.0% $196.0M $195.1M 0. Datadog $547.5M $523.2M 46% $566.0M $541.0M 4 Amplitude $70.6M $70.0M 0.9% $71.6M $70.3M 1 Hubspot $557.6M $533.0M 46% $557.0M $555.8M 0. BigCommerce $78.0M $78.0M 01% $81.8M $82.0M (0. Twilio $1033.6M $986.9M 47% $1035.0M $1029.0M 0. Wix.com $393.8M $389.7M 1.0% $402.5M $399.2M 0.',\n",
              " 'EV/NT™ EV/2024 EV/NTM NTMRev Gross Operating FCF % in To Company Rev Rev FCF Growth Margin Margin Margin Multiple 1 Snowflake 15.5x 13.4x 55x 27% 66% (41%) 25% 1008 2 MongoDB 14.6x 12.9x 133x 17% 74% (18%) 3% 67% 3 Palantir 14.5x 13.9x 58x 19% 80% 2% 22% 47% 4 Cloudflare 13.4x 12.6x 153x 28% 76% (16%) 8% 1008 5 Datadog 13.1x 12.4x 52x 19% 80% (5%) 25% 99% 6 CrowdStrike 12.5x 11.1x 37x 31% 74% (6%) 30% 31% 7 Adobe 12.3x 11.9x 30x 12% 88% 34% 40% 26% 8 ServiceNow 12.2x 11.6x 38x 21% 79% 8% 28% 70% 9 Samsara 11.8x 10.5x 393x 31% 72% (34%) (3%) 72% 10 Zscaler 11.8x 10.5x 48x 27% 78% (14%) 21% 36% Clouded Judgement @jaminball ALTIMI',\n",
              " '7 Day Share 30DayShare YTDShare Current Market Company Price A Price A Price A Cap ($MM) 1 Datadog 26% 9% 36% $32,931 2 Alteryx 19% (2%) (29%) $2,597 3 Digital Ocean 15% 1% (4%) $2,108 4 Couchbase 13% (5%) 22% $759 5 MongoDB 11% 2% 86% $26,063 6 Sprout Social 11% (7%) (16%) $2,642 7 Qualys 10% 3% 50% $6,179 8 Cloudflare 10% (5%) 38% $20,878 9 Snowflake 10% (4%) 9% $51,549 10 Dynatrace 8% 1% 29% $14,528 Clouded Judgement @jaminball ALTIMETER',\n",
              " 'Operating Adj Market Cap EV LT™M NIM 2024 LIM NIM LTM NIM Revenue _Margin _ Margin LT. _ NT = LTM NIM S&M = R&D =O GSA CSB CEpansion Payback Current % Week Snowflake $51,549 $48,105 19,7x 15.5x 13.4x 77x 55x 49% 27% $2,444 66% (41%) 25% 26% 75% 53% 52% 43% 13% 43% 142% 29 Months $156 10% Mongod8 $26.063 $25,355 17.1x 14.6x 12.9x 561x 133x 37% 17% $1,487 74% (18%) 3% 10% 40% 27% 50% 31% 11% 28% 120% 13 Months $365 11% Palantir $39,755 $36,790 17.3x 14.5 13.9% 78x 58x 16% 19% $2.125 80% 2% 22% 25% 38% 44% 35% 18% 26% 22% NA NA $18 2% Cloudfare $20,878 $20,723 17.1% 13.4x 12.6x 202x 153x 35% 28% $1,209 76% (16%) 8% 9% 44% 37% 47% 28% 17% 21% 116% 21 Months $62 10% Datadog $32,931 $31,477 15,7x 13.1x 12.4x 64x 52x 31% 19% $2,008 80% (5%) 25% 25% 56% 44% 30% 46% 9% 23% 120% 14 Months $100 26% CrowdStrike $45,551 $43,206 16.4x 12.5x 11.1x 54x 37x 44% 31% $2,642 74% (6%) 30% 31% 74% 62% 40% 27% 13% 22% 120% 23 Months $191 4% Adobe $263,045 $259,625 13.7x 12.3x 14.9% 34x 30x 10% 12% $18,886 88% 34% 40% 41% 50% 53% 28% 18% 7% 9% NA NA $578 3% ServiceNow $127,051 $125,244 14,8x 12.2x 11.6x 53x 38x 22% 21% $8,474 79% 8% 28% 32% 51% 53% 37% 24% 10% 18% NA 24 Months $620 3% Samsara $12,603 $11,985 15,4x 11,8x 10.5x NM 393x 46% 31% $730 72% (34%) (3%) 3% 43% 33% 55% 29% 23% 26% 115% 26 Months $24 4% Zscaler $25,122 $24,232 15,0x 11.8 10.5x 73x 48x 48% 27% $1,617 78% (14%) 21% 23% 69% 51% 45% 22% 6% 28% 121% 25 Months $171 7% Atlassian $44.087 $43,123 11.6x 10.0x 9.6x 46x 42x 24% 16% $3.705 82% (9%) 25% 24% 49% 40% 22% 53% 16% 27% NA 5 Months $171 (6%) Qualys $6,179 $5,750 10.6x 9.6x 9.3x 24x 29x 15% 11% $541 80% 28% 45% 33% 61% 43% 20% 20% 11% 12% NA NA $168 10% AppFolio $7,110 $6,963 12.2% 9.6x 9.1x 331x 51x 29% 27% $573 60% (8%) 4% 19% 33% 46% 20% 26% 17% 10% NA 8 Months $199 6% Shopify $77.608 $73,812 11,1x 9.4x 8.9x 135x 60x 27% 18% $6,651 49% (8%) 8% 15% 35% 34% 18% 28% 9% 10% NA NA $60 1% GitLad $6,694 $5,755 11.5x 9.3x 81x NI 282x 51% 23% $502 89% (43%) (0%) 3% 51% 26% 68% 37% 27% 29% 124% 27 Months $43 4% Dynatrace $14,528 $13,903 10,7x 9.0x 8.7x 42x 39x 25% 19% $1,297 81% 9% 25% 23% 50% 42% 38% 20% 12% 14% 114% 37 Months $49 8% Palo Alto $75,401 $72,234 10,5x 8.8x 8.1x 27% 21x 25% 19% $6,893 72% 6% 38% 40% 63% 58% 37% 23% 6% 16% NA NA $243 (3%) Veeva $26,765 $22,955 10,3x 88x 8.1x 23x 23x 12% 17% $2,232 71% 18% 44% 37% 55% 54% 17% 26% 11% 17% NA 7 Months $167 (12%) HudSpot $20.893 $20,164 9.8% 8.3x 7.9x 95x 62x 26% 18% $2,058 83% (6%) 11% 13% 37% 31% 50% 27% 11% 19% 103% 34 Months $415 (2%) Braze $4,487 $4,067 10.0x 8.2x 7.3K NI NM 37% 22% $409 68% (37%) (7%) (3%) 30% 19% 55% 27% 23% 21% 120% 20 Months $45 5% Autodesk $43,753 $44,126 8.5x 7.7 7.3K 20x 30x 10% 10% $5,212 90% 19% 42% 25% 52% 35% 34% 25% 11% 13% 105% NA $205 3% c3 $3,080 $2,376 8,7x 74x 6.8x NI NM 3% 17% $274 64% (106%) (51%) (17%) (48%) 0% 67% 75% 28% 77% NA 62 Months $26 (4%) Klaviyo $6,449 $6,067 9.5x 7.4x 7.0x 125x 78x 57% 28% $585 75% (4%) 8% 9% 65% 37% 42% 22% 15% NA 119% 25 Months $25 (18%) Workday $59,068 $55,658 8.3x 71x 6.6x 36x 29x 18% 16% $6,716 74% (1%) 23% 24% 41% 40% 30% 36% 10% 21% NA 22 Months $225 6% Guidewire $7,341 $6,991 7.7% 7.1x 6.7x 333x 61x 11% 9% $905 51% (17%) 2% 11% 14% 20% 21% 28% 19% 16% NA NA $90 (0%) Monday.com $6,471 $5,551 8.9x 6.9x 6.1x 43 38x 52% 29% $625 89% (12%) 21% 17% 73% 46% 63% 23% 14% 16% 110% 27 Months $136 6% Workiva $4,702 $4,709 7,8 6.7x 6.4x 111x 59x 18% 15% $607 75% (16%) 7% 11% 25% 27% 45% 28% 18% 16% 112% 43 Months $87 (0%) Sprout Social $2.642 $2.540 8.2x 6.4x 6.0x 278x 85x 30% 29% $310 77% (21%) 4% 8% 34% 36% 50% 24% 24% 20% NA 56 Months $47 11% Splunk $24,699 $26,321 6.8x 6.3x 6.0x 33x 26x 26% 8% $3,843 79% (1%) 21% 23% 47% 32% 43% 25% 11% 20% 116% 7 Months $147 (0%) nCino $3,199 $3,168 7.1% 6.2 5.7x 559x 56x 31% 18% $445 59% (15%) 1% 11% 33% 26% 29% 27% 18% 11% NA 60 Months $28 (2%) Procore $7,175 $6,633 7.4% 6.2x 5.9x 223x 74x 34% 21% $892 81% (28%) 3% 8% 38% 29% 55% 34% 21% 20% NA 24 Months $50 (1%) Freshworks $5,035 $3.901 6.8x §.8x 5.6x 73x 40x 21% 18% $569 82% (33%) 9% 15% 30% 33% 63% 24% 28% 38% 106% 37 Months $17 (7%)',\n",
              " 'Valuation Rev Multipie FCF Multipie Rev Growth L™ Gross Operating FCF Margin Rule of 40 LTM Operating Expenses % Rev Net GM Adj. Share Price Per Market Cap €v LT™™ NTM 2024 LT™ NTM L™ NTM Revenue _Margin Margin L™ NIM LIM sNTM = S&M_—_ RED CGBA SBC __sCEEXpansion Payback Current “Week % Asana $4,185 $3,932 6.5x 5.8x 5.4x NM NM 30% 12% $607 90% (56%) (14%) (4%) 16% 8% 69% 52% 24% 33% 105% 31 Months sis (1%) Salesforce $204,340 $205,792 6.2x 5.6x 5.3x 27x 21 13% 11% $33,071 75% 13% 23% 27% 36% 37% 39% 15% 8% 9% NA 34 Months $210 1% JFrog $2,712 $2234 68x §.6x 5.3% 48x 33x 25% 22% $329 73% (26%) 14% 17% 39% 38% 44% 41% 18% 26% 119% 32Months $26 (2%) Paylocity $8,376 $8,140 6.6x §.6x 54x 31x 27x 34% 18% $1,239 69% 18% 21% 21% 55% 39% 25% 14% 15% 12% NA NA $149 (13%) \\' UiPath $9,402 $7,636 6.7x 5.5% 5.1x 45x 29% 15% 21% $1,148 84% (21%) 15% 18% 30% 39% 58% 27% 20% 32% 121% 39Months $17 0% SentinelOne $4,521 $3,814 7.3x 5.5x 4.8% NM NM 73% 33% $524 68% (79%) (26%) (3%) 47% 30% 70% 41% 36% 38% 115% 31 Months $15 1% \\' Elastic $7,250 $6.885 6.2x §.3x 4.9% 86x 4x 21% 17% $1,113 73% (15%) 7% 12% 28% 29% 46% 28% 13% 19% 113% 36Months $74 4% Paycom $10,104 $9,649 5.9x §.3x 5.2 32x 28x 26% 12% $1,630 84% 28% 19% 19% 45% 30% 25% 11% 17% 7% NA NA $168 3% \\' Confuent $5,200 $4,442 6.1% 5.0x 4.7% NM 727% 36% 21% $732 69% (65%) (22%) 1% 14% 21% 69% 46% 19% 46% 130% 42Months $17 4% i BlackLine $3,186 $3,213 5.6x 5.0x 4.9% 38x 28x 15% 12% $574 75% 3% 15% 18% 30% 30% 44% 19% 9% 14% 105% § 36Months $52 2% Smarisheet $5,361 $4,869 5.6x 47x 4.2% 55x 34x 32% 20% $867 79% (18%) 10% 13% 42% 33% 56% 26% 15% 22% 121% 28Months $40 2% Tenable $4,342 $4,064 5.3\" 4.7% 45x 34x 25x 19% 13% $770 77% (8%) 16% 19% 35% 32% 50% 20% 14% 18% NA 58 Months $37 5% \\\\ Unity $9,592 $11,044 6.1\" 4.7% 4.2% NM 30x 48% 25% $1,808 68% (53%) (7%) 15% 41% 40% 40% 59% 22% 36% 106% NA $25 (3%) \\' Appian $2,608 $2.717 5.2x 46x 44x NM NM 18% 12% $526 73% (25%) (24%) (8%) (6%) 4% 47% 30% 21% 8% 117% 25Months $36 (15%) ‘ Digital Ocean $2,108 $3,383 5.0x 45x 44x 30x 21x 27% 10% $675 60% 2% 17% 22% 43% 32% 12% 22% 25% 14% 96% 31 Months $25 15% Zoominfo $4,907 $5,713 47x 45x 45x 44x 14x 20% 3% $1,225 85% 21% 33% 33% 53% 3% 34% 16% 13% 15% NA 62 Months $13 (1%) \\' Fived $4,444 $4,539 §.2x 45x 4.3% 50x 47% 18% 15% $880 53% (11%) 10% 10% 29% 24% 33% 18% 13% 23% NA 64 Months $61 8% Orta $10,877 $10,466 51x 44x 4.1% 42x 27x 29% 14% $2,065 72% (31%) 12% 16% 41% 30% 52% 31% 21% 33% 115% §27Months $66 (2%) \\' Sprinkir $3,846 $3,250 48x 4.2% 3.9% 127% 36x 21% 15% $674 75% (1%) 4% 11% 25% 26% 49% 13% 14% 8% 120% 61Months $14 2% Hashicorp $3,800 $2.571 47x 42x 3.8x NM 88x 38% 13% $542 81% (54%) (10%) 5% 28% 18% 70% 40% 25% 31% 124% 62 Months $20 2% ‘ BilLcom $5,980 $5,245 4.6x 42x 4.0x 27x 28% 50% 1% $1,134 82% (23%) 17% 15% 67% 26% 45% 29% 26% 27% 111% 77 Months $56 (37%) \\' Squarespace $3,862 $4,339 4.x 4.0x 3.9x 22x 47x 15% 11% $970 82% 10% 20% 24% 35% 35% 33% 24% 14% 11% NA NA $28 (1%) Fastly $2,144 $2,248 4.6 4.0x 3.8x NM NIM 19% 16% $488 52% (41%) (10%) (%) 8% 11% 39% 31% 23% 27% 114% 55Montns $16 (0%) Box $3,644 $4,225 4.1% 3.9% 3.8x 14x 13x 8% 5% $1,020 75% 5% 29% 29% 38% 35% 33% 24% 13% 19% 103% 37 Months $25 1% Dropbox $9,076 $10,028 4.1% 3.9x 3.x 13x 11x 8% 3% $2,466 81% 14% 30% 36% 38% 39% 18% 39% 9% 14% NA 72 Months $26 (1%) PagerDuty $1,932 $1,730 4.x 3.8x 3.5x 40x 23x 25% 12% $406 82% (25%) 11% 16% 35% 29% 48% 34% 25% 29% 114% 37Months $21 1% Jamf $2,018 $2,157 4.0x 3.5x 3.3x 40x 20x 19% 16% $640 77% (22%) 10% 18% 30% 33% 42% 24% 20% 17% 108% 45Months $16 (1%) Q2 $1,959 $2,214 3.6x 3.3x 3.2 46x 38x 11% 10% $609 47% (16%) 8% 9% 18% 18% 18% 23% 17% 12% NA 360 Months $33 1% Couchbase $759 $600 37x 3.2 3.0x NM NM 17% 13% $164 86% (47%) (23%) (10%) (6%) 3% 74% 37% 23% 21% 115% 48Months $16 13% Alteryx $2,597 $3,248 3.5x 3.2 3.0x NM 43% 26% 11% $920 86% (27%) (7%) 7% 19% 18% 65% 25% 22% 27% 119% 77 Months $36 19% Amplitude $1,220 $901 3.3 3.4K 3.0x 257x 43x 22% 8% $270 69% (39%) 1% 7% 23% 15% 56% 34% 21% 31% 99% 122 Months $10 0% Wixcom $4,953 $4,922 3.3\" 2.9 28x 67x 16x 11% 12% $1,513 65% (6%) 5% 18% 16% 29% 28% 32% 11% 16% NA NA $87 6% Zoom $18,253 $12,310 2.8x 2.7% 2.6x Vix ox 4% 2% $4,464 75% 3% 26% 30% 30% 32% 39% 19% 15% 31% 108% 50Months $61 (1%) ‘',\n",
              " '~ Valuation Rev Multiple FCF Multiple Rev Growth LT™ Gross Operating FCF Margin Rule of 40 LTM Operating Expenses % Rev Net GM Adj. Share Price Perk Market Cap EV LIM NIM 2024 LIM NT™M LIM NTM = Revenue _Margin — Margin LT NIM LTM NTM S&M R&D GBA SBC Expansion Payback Current ‘Week DocuSign $8,136 $7,571 2.9% 27x 2.6x 14x 12 14% 6% $2,654 79% 1% 21% 22% 34% 28% 45% 19% 15% 22% 102% 30 Months $40 0% Zuora $1,085 $941 2.3x 2.1% 2.0 NM 22x 12% 9% $415 63% (23%) (3%) 9% 9% 18% 42% 25% 20% 23% 107% 74Months $8 4% BigCommerce $639 $692 2.3x 2.1% 20x NM 48x 10% 13% $298 75% (29%) (22%) 4% (12%) 18% 47% 30% 24% 15% NA NM $3 (10%) Walkie $807 $522 2.0x 1.9% 18x NM 30x 18% 8% $260 81% (35%) (9%) 6% 9% 14% 67% 22% 27% 21% 106% 183 Months $9 (1%) Twilio $10,138 $7,467 1.8x 1.8x 17x NM 23x 19% 2% $4,052 48% (18%) (6%) 8% 13% 10% 28% 25% 13% 18% 101% NM $56 7% RingCentral $2,500 $4,103 1.9% 17x 17x 49x 42x 13% 9% $2,156 69% (12%) 10% 14% 23% 23% 50% 16% 14% 19% 99% 101 Months $27 (2%) Yext $776 $687 1.7% 1,7 1.6x 17x 16x 1% 3% $403 76% (6%) 10% 11% 11% 13% 47% 17% 18% 13% 97% NM $6 3% Oto $739 $380 1.8x 1.5x 16x NM 16x 23% 16% $215 64% (27%) (8%) 10% 15% 25% 21% 35% 35% 24% 119% 23 \\\\Months $5 (19%) Kaltura $252 $235 14x 14x 1.3% NM NM 2% 0% $172 64% (26%) (12%) (4%) (10%) (4%) 33% 32% 5% 18% 101% NM $2 1% Domo $312 $377 12x 1.2% 1.2 NM NM 11% (0%) $318 76% (20%) (6%) (2%) 6% (2%) 30% 29% 12% 22% 99% NM $9 2% CS Disco $354 $185 14x 12x 11% NM NM (1%) 18% $135 75% (59%) (38%) (11%) (39%) 7% 56% 45% 33% 20% NA 121 Months 36 (2%) 2U $195 $1,104 1.2x 11x 1.1% NM 9x (5%) 13% $926 71% (4%) (3%) 12% (7%) 25% 40% 20% 15% 6% NA NA $2 5% 8x8 $342 $738 1.0x 1.0 1.0% 15x 10x 3% 1% $737 70% (3%) 7% 10% 10% 11% 35% 20% 11% 9% NA 297 Months $3 (10%) Riskified $696 $257 0.9x 0.8x 0.7x NM 384x 18% 14% $284 52% (31%) (6%) 0% 12% 14% 31% 26% 26% 22% NA NA $4 3% Agora $322 $122 0.8x 0.8% 0.7x NM NM (8%) 2% $152 61% (63%) (135%) (14%) (143%) (13%) 30% 61% 25% 19% 108% NM $3 6% NM 7 On24 $273 $66 102x (13%) (15%) $171 71% (36%) (12%) 0% (25%) (14%) 55% 25% 27% 23% NA NM']"
            ]
          },
          "metadata": {},
          "execution_count": 25
        }
      ]
    },
    {
      "cell_type": "code",
      "source": [
        "!pip install langchain"
      ],
      "metadata": {
        "colab": {
          "base_uri": "https://localhost:8080/"
        },
        "id": "rsYWfzMqV0UX",
        "outputId": "9ed864bd-a1a6-4891-e5ea-b30a9bdb749e"
      },
      "execution_count": 21,
      "outputs": [
        {
          "output_type": "stream",
          "name": "stdout",
          "text": [
            "Requirement already satisfied: langchain in /usr/local/lib/python3.12/dist-packages (0.3.27)\n",
            "Requirement already satisfied: langchain-core<1.0.0,>=0.3.72 in /usr/local/lib/python3.12/dist-packages (from langchain) (0.3.79)\n",
            "Requirement already satisfied: langchain-text-splitters<1.0.0,>=0.3.9 in /usr/local/lib/python3.12/dist-packages (from langchain) (0.3.11)\n",
            "Requirement already satisfied: langsmith>=0.1.17 in /usr/local/lib/python3.12/dist-packages (from langchain) (0.4.37)\n",
            "Requirement already satisfied: pydantic<3.0.0,>=2.7.4 in /usr/local/lib/python3.12/dist-packages (from langchain) (2.11.10)\n",
            "Requirement already satisfied: SQLAlchemy<3,>=1.4 in /usr/local/lib/python3.12/dist-packages (from langchain) (2.0.44)\n",
            "Requirement already satisfied: requests<3,>=2 in /usr/local/lib/python3.12/dist-packages (from langchain) (2.32.4)\n",
            "Requirement already satisfied: PyYAML>=5.3 in /usr/local/lib/python3.12/dist-packages (from langchain) (6.0.3)\n",
            "Requirement already satisfied: tenacity!=8.4.0,<10.0.0,>=8.1.0 in /usr/local/lib/python3.12/dist-packages (from langchain-core<1.0.0,>=0.3.72->langchain) (8.5.0)\n",
            "Requirement already satisfied: jsonpatch<2.0.0,>=1.33.0 in /usr/local/lib/python3.12/dist-packages (from langchain-core<1.0.0,>=0.3.72->langchain) (1.33)\n",
            "Requirement already satisfied: typing-extensions<5.0.0,>=4.7.0 in /usr/local/lib/python3.12/dist-packages (from langchain-core<1.0.0,>=0.3.72->langchain) (4.15.0)\n",
            "Requirement already satisfied: packaging<26.0.0,>=23.2.0 in /usr/local/lib/python3.12/dist-packages (from langchain-core<1.0.0,>=0.3.72->langchain) (25.0)\n",
            "Requirement already satisfied: httpx<1,>=0.23.0 in /usr/local/lib/python3.12/dist-packages (from langsmith>=0.1.17->langchain) (0.28.1)\n",
            "Requirement already satisfied: orjson>=3.9.14 in /usr/local/lib/python3.12/dist-packages (from langsmith>=0.1.17->langchain) (3.11.3)\n",
            "Requirement already satisfied: requests-toolbelt>=1.0.0 in /usr/local/lib/python3.12/dist-packages (from langsmith>=0.1.17->langchain) (1.0.0)\n",
            "Requirement already satisfied: zstandard>=0.23.0 in /usr/local/lib/python3.12/dist-packages (from langsmith>=0.1.17->langchain) (0.25.0)\n",
            "Requirement already satisfied: annotated-types>=0.6.0 in /usr/local/lib/python3.12/dist-packages (from pydantic<3.0.0,>=2.7.4->langchain) (0.7.0)\n",
            "Requirement already satisfied: pydantic-core==2.33.2 in /usr/local/lib/python3.12/dist-packages (from pydantic<3.0.0,>=2.7.4->langchain) (2.33.2)\n",
            "Requirement already satisfied: typing-inspection>=0.4.0 in /usr/local/lib/python3.12/dist-packages (from pydantic<3.0.0,>=2.7.4->langchain) (0.4.2)\n",
            "Requirement already satisfied: charset_normalizer<4,>=2 in /usr/local/lib/python3.12/dist-packages (from requests<3,>=2->langchain) (3.4.4)\n",
            "Requirement already satisfied: idna<4,>=2.5 in /usr/local/lib/python3.12/dist-packages (from requests<3,>=2->langchain) (3.11)\n",
            "Requirement already satisfied: urllib3<3,>=1.21.1 in /usr/local/lib/python3.12/dist-packages (from requests<3,>=2->langchain) (2.5.0)\n",
            "Requirement already satisfied: certifi>=2017.4.17 in /usr/local/lib/python3.12/dist-packages (from requests<3,>=2->langchain) (2025.10.5)\n",
            "Requirement already satisfied: greenlet>=1 in /usr/local/lib/python3.12/dist-packages (from SQLAlchemy<3,>=1.4->langchain) (3.2.4)\n",
            "Requirement already satisfied: anyio in /usr/local/lib/python3.12/dist-packages (from httpx<1,>=0.23.0->langsmith>=0.1.17->langchain) (4.11.0)\n",
            "Requirement already satisfied: httpcore==1.* in /usr/local/lib/python3.12/dist-packages (from httpx<1,>=0.23.0->langsmith>=0.1.17->langchain) (1.0.9)\n",
            "Requirement already satisfied: h11>=0.16 in /usr/local/lib/python3.12/dist-packages (from httpcore==1.*->httpx<1,>=0.23.0->langsmith>=0.1.17->langchain) (0.16.0)\n",
            "Requirement already satisfied: jsonpointer>=1.9 in /usr/local/lib/python3.12/dist-packages (from jsonpatch<2.0.0,>=1.33.0->langchain-core<1.0.0,>=0.3.72->langchain) (3.0.0)\n",
            "Requirement already satisfied: sniffio>=1.1 in /usr/local/lib/python3.12/dist-packages (from anyio->httpx<1,>=0.23.0->langsmith>=0.1.17->langchain) (1.3.1)\n"
          ]
        }
      ]
    },
    {
      "cell_type": "code",
      "source": [
        "!pip install langchain_groq"
      ],
      "metadata": {
        "colab": {
          "base_uri": "https://localhost:8080/"
        },
        "id": "iAgXLYflV3PD",
        "outputId": "56931617-9955-417a-d8bc-ea9e7ef793c7"
      },
      "execution_count": 22,
      "outputs": [
        {
          "output_type": "stream",
          "name": "stdout",
          "text": [
            "Collecting langchain_groq\n",
            "  Downloading langchain_groq-1.0.0-py3-none-any.whl.metadata (1.7 kB)\n",
            "Collecting groq<1.0.0,>=0.30.0 (from langchain_groq)\n",
            "  Downloading groq-0.33.0-py3-none-any.whl.metadata (16 kB)\n",
            "Collecting langchain-core<2.0.0,>=1.0.0 (from langchain_groq)\n",
            "  Downloading langchain_core-1.0.1-py3-none-any.whl.metadata (3.5 kB)\n",
            "Requirement already satisfied: anyio<5,>=3.5.0 in /usr/local/lib/python3.12/dist-packages (from groq<1.0.0,>=0.30.0->langchain_groq) (4.11.0)\n",
            "Requirement already satisfied: distro<2,>=1.7.0 in /usr/local/lib/python3.12/dist-packages (from groq<1.0.0,>=0.30.0->langchain_groq) (1.9.0)\n",
            "Requirement already satisfied: httpx<1,>=0.23.0 in /usr/local/lib/python3.12/dist-packages (from groq<1.0.0,>=0.30.0->langchain_groq) (0.28.1)\n",
            "Requirement already satisfied: pydantic<3,>=1.9.0 in /usr/local/lib/python3.12/dist-packages (from groq<1.0.0,>=0.30.0->langchain_groq) (2.11.10)\n",
            "Requirement already satisfied: sniffio in /usr/local/lib/python3.12/dist-packages (from groq<1.0.0,>=0.30.0->langchain_groq) (1.3.1)\n",
            "Requirement already satisfied: typing-extensions<5,>=4.10 in /usr/local/lib/python3.12/dist-packages (from groq<1.0.0,>=0.30.0->langchain_groq) (4.15.0)\n",
            "Requirement already satisfied: jsonpatch<2.0.0,>=1.33.0 in /usr/local/lib/python3.12/dist-packages (from langchain-core<2.0.0,>=1.0.0->langchain_groq) (1.33)\n",
            "Requirement already satisfied: langsmith<1.0.0,>=0.3.45 in /usr/local/lib/python3.12/dist-packages (from langchain-core<2.0.0,>=1.0.0->langchain_groq) (0.4.37)\n",
            "Requirement already satisfied: packaging<26.0.0,>=23.2.0 in /usr/local/lib/python3.12/dist-packages (from langchain-core<2.0.0,>=1.0.0->langchain_groq) (25.0)\n",
            "Requirement already satisfied: pyyaml<7.0.0,>=5.3.0 in /usr/local/lib/python3.12/dist-packages (from langchain-core<2.0.0,>=1.0.0->langchain_groq) (6.0.3)\n",
            "Requirement already satisfied: tenacity!=8.4.0,<10.0.0,>=8.1.0 in /usr/local/lib/python3.12/dist-packages (from langchain-core<2.0.0,>=1.0.0->langchain_groq) (8.5.0)\n",
            "Requirement already satisfied: idna>=2.8 in /usr/local/lib/python3.12/dist-packages (from anyio<5,>=3.5.0->groq<1.0.0,>=0.30.0->langchain_groq) (3.11)\n",
            "Requirement already satisfied: certifi in /usr/local/lib/python3.12/dist-packages (from httpx<1,>=0.23.0->groq<1.0.0,>=0.30.0->langchain_groq) (2025.10.5)\n",
            "Requirement already satisfied: httpcore==1.* in /usr/local/lib/python3.12/dist-packages (from httpx<1,>=0.23.0->groq<1.0.0,>=0.30.0->langchain_groq) (1.0.9)\n",
            "Requirement already satisfied: h11>=0.16 in /usr/local/lib/python3.12/dist-packages (from httpcore==1.*->httpx<1,>=0.23.0->groq<1.0.0,>=0.30.0->langchain_groq) (0.16.0)\n",
            "Requirement already satisfied: jsonpointer>=1.9 in /usr/local/lib/python3.12/dist-packages (from jsonpatch<2.0.0,>=1.33.0->langchain-core<2.0.0,>=1.0.0->langchain_groq) (3.0.0)\n",
            "Requirement already satisfied: orjson>=3.9.14 in /usr/local/lib/python3.12/dist-packages (from langsmith<1.0.0,>=0.3.45->langchain-core<2.0.0,>=1.0.0->langchain_groq) (3.11.3)\n",
            "Requirement already satisfied: requests-toolbelt>=1.0.0 in /usr/local/lib/python3.12/dist-packages (from langsmith<1.0.0,>=0.3.45->langchain-core<2.0.0,>=1.0.0->langchain_groq) (1.0.0)\n",
            "Requirement already satisfied: requests>=2.0.0 in /usr/local/lib/python3.12/dist-packages (from langsmith<1.0.0,>=0.3.45->langchain-core<2.0.0,>=1.0.0->langchain_groq) (2.32.4)\n",
            "Requirement already satisfied: zstandard>=0.23.0 in /usr/local/lib/python3.12/dist-packages (from langsmith<1.0.0,>=0.3.45->langchain-core<2.0.0,>=1.0.0->langchain_groq) (0.25.0)\n",
            "Requirement already satisfied: annotated-types>=0.6.0 in /usr/local/lib/python3.12/dist-packages (from pydantic<3,>=1.9.0->groq<1.0.0,>=0.30.0->langchain_groq) (0.7.0)\n",
            "Requirement already satisfied: pydantic-core==2.33.2 in /usr/local/lib/python3.12/dist-packages (from pydantic<3,>=1.9.0->groq<1.0.0,>=0.30.0->langchain_groq) (2.33.2)\n",
            "Requirement already satisfied: typing-inspection>=0.4.0 in /usr/local/lib/python3.12/dist-packages (from pydantic<3,>=1.9.0->groq<1.0.0,>=0.30.0->langchain_groq) (0.4.2)\n",
            "Requirement already satisfied: charset_normalizer<4,>=2 in /usr/local/lib/python3.12/dist-packages (from requests>=2.0.0->langsmith<1.0.0,>=0.3.45->langchain-core<2.0.0,>=1.0.0->langchain_groq) (3.4.4)\n",
            "Requirement already satisfied: urllib3<3,>=1.21.1 in /usr/local/lib/python3.12/dist-packages (from requests>=2.0.0->langsmith<1.0.0,>=0.3.45->langchain-core<2.0.0,>=1.0.0->langchain_groq) (2.5.0)\n",
            "Downloading langchain_groq-1.0.0-py3-none-any.whl (16 kB)\n",
            "Downloading groq-0.33.0-py3-none-any.whl (135 kB)\n",
            "\u001b[2K   \u001b[90m━━━━━━━━━━━━━━━━━━━━━━━━━━━━━━━━━━━━━━━━\u001b[0m \u001b[32m135.8/135.8 kB\u001b[0m \u001b[31m4.9 MB/s\u001b[0m eta \u001b[36m0:00:00\u001b[0m\n",
            "\u001b[?25hDownloading langchain_core-1.0.1-py3-none-any.whl (467 kB)\n",
            "\u001b[2K   \u001b[90m━━━━━━━━━━━━━━━━━━━━━━━━━━━━━━━━━━━━━━━━\u001b[0m \u001b[32m467.1/467.1 kB\u001b[0m \u001b[31m19.6 MB/s\u001b[0m eta \u001b[36m0:00:00\u001b[0m\n",
            "\u001b[?25hInstalling collected packages: groq, langchain-core, langchain_groq\n",
            "  Attempting uninstall: langchain-core\n",
            "    Found existing installation: langchain-core 0.3.79\n",
            "    Uninstalling langchain-core-0.3.79:\n",
            "      Successfully uninstalled langchain-core-0.3.79\n",
            "\u001b[31mERROR: pip's dependency resolver does not currently take into account all the packages that are installed. This behaviour is the source of the following dependency conflicts.\n",
            "langchain 0.3.27 requires langchain-core<1.0.0,>=0.3.72, but you have langchain-core 1.0.1 which is incompatible.\u001b[0m\u001b[31m\n",
            "\u001b[0mSuccessfully installed groq-0.33.0 langchain-core-1.0.1 langchain_groq-1.0.0\n"
          ]
        }
      ]
    },
    {
      "cell_type": "code",
      "source": [
        "import os\n",
        "from google.colab import userdata\n",
        "GROQ_API_KEY = userdata.get('GROQ_API_KEY')\n",
        "os.environ[\"GROQ_API_KEY\"] = GROQ_API_KEY"
      ],
      "metadata": {
        "id": "Dcw_DWEKWT5C"
      },
      "execution_count": 23,
      "outputs": []
    },
    {
      "cell_type": "code",
      "source": [
        "from langchain_core.output_parsers import StrOutputParser\n",
        "from langchain_core.prompts import ChatPromptTemplate\n",
        "from langchain_groq import ChatGroq"
      ],
      "metadata": {
        "id": "oex_nf_uWl-3"
      },
      "execution_count": 29,
      "outputs": []
    },
    {
      "cell_type": "code",
      "source": [
        "prompt_text = \"\"\" You are an assitant tasked with summarizing tables\n",
        "\"\"\""
      ],
      "metadata": {
        "id": "i07JjtkFXGTw"
      },
      "execution_count": 57,
      "outputs": []
    },
    {
      "cell_type": "code",
      "source": [
        "prompt = ChatPromptTemplate.from_template(prompt_text)"
      ],
      "metadata": {
        "id": "jg-GCq4UXQhq"
      },
      "execution_count": 58,
      "outputs": []
    },
    {
      "cell_type": "code",
      "source": [
        "model = ChatGroq(temperature = 0, model = \"llama-3.1-8b-instant\")"
      ],
      "metadata": {
        "id": "aRqL-3f0XnaT"
      },
      "execution_count": 59,
      "outputs": []
    },
    {
      "cell_type": "code",
      "source": [
        "len(tab)"
      ],
      "metadata": {
        "colab": {
          "base_uri": "https://localhost:8080/"
        },
        "id": "bXX5TbG6Xy39",
        "outputId": "71ca77da-3388-4b12-91ac-e0e2aac023cd"
      },
      "execution_count": 60,
      "outputs": [
        {
          "output_type": "execute_result",
          "data": {
            "text/plain": [
              "6"
            ]
          },
          "metadata": {},
          "execution_count": 60
        }
      ]
    },
    {
      "cell_type": "code",
      "source": [
        "model.invoke('hi')"
      ],
      "metadata": {
        "colab": {
          "base_uri": "https://localhost:8080/"
        },
        "id": "9CyauL0CXu8g",
        "outputId": "f2b25364-f551-452e-8a53-7eae6606bcb6"
      },
      "execution_count": 61,
      "outputs": [
        {
          "output_type": "execute_result",
          "data": {
            "text/plain": [
              "AIMessage(content='How can I assist you today?', additional_kwargs={}, response_metadata={'token_usage': {'completion_tokens': 8, 'prompt_tokens': 36, 'total_tokens': 44, 'completion_time': 0.006670674, 'prompt_time': 0.001603904, 'queue_time': 0.0358522, 'total_time': 0.008274578}, 'model_name': 'llama-3.1-8b-instant', 'system_fingerprint': 'fp_020e283281', 'service_tier': 'on_demand', 'finish_reason': 'stop', 'logprobs': None, 'model_provider': 'groq'}, id='lc_run--cd5b8a51-4d26-4047-be20-4e2040e141c8-0', usage_metadata={'input_tokens': 36, 'output_tokens': 8, 'total_tokens': 44})"
            ]
          },
          "metadata": {},
          "execution_count": 61
        }
      ]
    },
    {
      "cell_type": "code",
      "source": [
        "tab[0]"
      ],
      "metadata": {
        "colab": {
          "base_uri": "https://localhost:8080/",
          "height": 209
        },
        "id": "OZ0QeDG_X9BN",
        "outputId": "e178a9ee-960f-4de1-adb3-a214d053cea3"
      },
      "execution_count": 62,
      "outputs": [
        {
          "output_type": "execute_result",
          "data": {
            "text/plain": [
              "'Reported Revenue Next Quarter Rev Actual Consensus A Guidance Consensus On24 $39.2M $38.0M 3.2% $37.3M $35.4M i Squarespace $257.1M $251.8M 21% $262.5M $256.0M 2. Jamf $142.6M $140.0M 1.9% $148.5M $149.1M (0. Kaltura $43.5M $43.1M 1.0% $41.6M $42.2M (1. CS Disco $34.9M $34.1M 2.3% $35.0M $38.8M (9. 2U $229.7M $223.4M 2.8% NA $300.0M t Olo $57.8M $56.3M 27% $58.8M $56.9M sy Alteryx $232.0M $210.3M 10.3% $337.0M $337.8M (0. RingCentral $558.2M $554.0M 08% $570.0M $570.0M 0. Klaviyo $175.8M $167.4M 5.0% $196.0M $195.1M 0. Datadog $547.5M $523.2M 46% $566.0M $541.0M 4 Amplitude $70.6M $70.0M 0.9% $71.6M $70.3M 1 Hubspot $557.6M $533.0M 46% $557.0M $555.8M 0. BigCommerce $78.0M $78.0M 01% $81.8M $82.0M (0. Twilio $1033.6M $986.9M 47% $1035.0M $1029.0M 0. Wix.com $393.8M $389.7M 1.0% $402.5M $399.2M 0.'"
            ],
            "application/vnd.google.colaboratory.intrinsic+json": {
              "type": "string"
            }
          },
          "metadata": {},
          "execution_count": 62
        }
      ]
    },
    {
      "cell_type": "code",
      "source": [
        "summarize_chain = {\"element\": lambda x:x} | prompt | model | StrOutputParser()"
      ],
      "metadata": {
        "id": "2NOXnStgX_ha"
      },
      "execution_count": 63,
      "outputs": []
    },
    {
      "cell_type": "code",
      "source": [
        "table_summaries = []"
      ],
      "metadata": {
        "id": "fsyJk7RJYoVX"
      },
      "execution_count": 64,
      "outputs": []
    },
    {
      "cell_type": "code",
      "source": [
        "table_summaries = summarize_chain.batch(tab, {\"max_concurrency\": 6})"
      ],
      "metadata": {
        "id": "VdEAUwMAYq4y"
      },
      "execution_count": 65,
      "outputs": []
    },
    {
      "cell_type": "code",
      "source": [
        "tab[0]"
      ],
      "metadata": {
        "colab": {
          "base_uri": "https://localhost:8080/",
          "height": 209
        },
        "id": "7l4oADAvZCD-",
        "outputId": "45e276cd-41fd-4c4f-fff9-4cf4eddb5b29"
      },
      "execution_count": 66,
      "outputs": [
        {
          "output_type": "execute_result",
          "data": {
            "text/plain": [
              "'Reported Revenue Next Quarter Rev Actual Consensus A Guidance Consensus On24 $39.2M $38.0M 3.2% $37.3M $35.4M i Squarespace $257.1M $251.8M 21% $262.5M $256.0M 2. Jamf $142.6M $140.0M 1.9% $148.5M $149.1M (0. Kaltura $43.5M $43.1M 1.0% $41.6M $42.2M (1. CS Disco $34.9M $34.1M 2.3% $35.0M $38.8M (9. 2U $229.7M $223.4M 2.8% NA $300.0M t Olo $57.8M $56.3M 27% $58.8M $56.9M sy Alteryx $232.0M $210.3M 10.3% $337.0M $337.8M (0. RingCentral $558.2M $554.0M 08% $570.0M $570.0M 0. Klaviyo $175.8M $167.4M 5.0% $196.0M $195.1M 0. Datadog $547.5M $523.2M 46% $566.0M $541.0M 4 Amplitude $70.6M $70.0M 0.9% $71.6M $70.3M 1 Hubspot $557.6M $533.0M 46% $557.0M $555.8M 0. BigCommerce $78.0M $78.0M 01% $81.8M $82.0M (0. Twilio $1033.6M $986.9M 47% $1035.0M $1029.0M 0. Wix.com $393.8M $389.7M 1.0% $402.5M $399.2M 0.'"
            ],
            "application/vnd.google.colaboratory.intrinsic+json": {
              "type": "string"
            }
          },
          "metadata": {},
          "execution_count": 66
        }
      ]
    },
    {
      "cell_type": "code",
      "source": [
        "table_summaries[0]"
      ],
      "metadata": {
        "colab": {
          "base_uri": "https://localhost:8080/",
          "height": 209
        },
        "id": "lotP8UZnZEei",
        "outputId": "0f4d917a-5c24-41fb-8cc2-ffc90ce955b6"
      },
      "execution_count": 67,
      "outputs": [
        {
          "output_type": "execute_result",
          "data": {
            "text/plain": [
              "\"Based on the provided table data, here's a concise summary:\\n\\n**Revenue Performance:**\\n\\n- 7 out of 15 companies reported revenue above their consensus estimates.\\n- 4 companies reported revenue below their consensus estimates.\\n- The average revenue growth rate was 12.5% (calculated from the 12 companies with available guidance).\\n\\n**Revenue Growth Leaders:**\\n\\n- Datadog: 46% revenue growth\\n- Hubspot: 46% revenue growth\\n- Twilio: 47% revenue growth\\n\\n**Revenue Growth Laggards:**\\n\\n- Alteryx: -10.3% revenue growth (below guidance)\\n- CS Disco: -2.3% revenue growth (below guidance)\\n- BigCommerce: -0.1% revenue growth (below guidance)\\n\\n**Revenue Guidance:**\\n\\n- 9 out of 15 companies provided revenue guidance for the next quarter.\\n- The average revenue guidance is $444.5M, with a range of $35.0M (CS Disco) to $337.0M (Alteryx).\""
            ],
            "application/vnd.google.colaboratory.intrinsic+json": {
              "type": "string"
            }
          },
          "metadata": {},
          "execution_count": 67
        }
      ]
    },
    {
      "cell_type": "code",
      "source": [
        "img[0]"
      ],
      "metadata": {
        "colab": {
          "base_uri": "https://localhost:8080/",
          "height": 35
        },
        "id": "t_EoKymIZ4Yc",
        "outputId": "01d06401-6d42-4c22-a21f-04cebbfb422d"
      },
      "execution_count": 68,
      "outputs": [
        {
          "output_type": "execute_result",
          "data": {
            "text/plain": [
              "'Datastore'"
            ],
            "application/vnd.google.colaboratory.intrinsic+json": {
              "type": "string"
            }
          },
          "metadata": {},
          "execution_count": 68
        }
      ]
    },
    {
      "cell_type": "code",
      "source": [
        "import base64\n",
        "import os\n",
        "from langchain_core.messages import HumanMessage"
      ],
      "metadata": {
        "id": "F4cEibYrZ8pb"
      },
      "execution_count": 69,
      "outputs": []
    },
    {
      "cell_type": "code",
      "source": [
        "def encode_image(image_path):\n",
        "  with open(image_path, \"rb\") as image_file:\n",
        "    return base64.b64encode(image_file.read()).decode(\"utf-8\")"
      ],
      "metadata": {
        "id": "WI7xa9udaEMX"
      },
      "execution_count": 71,
      "outputs": []
    },
    {
      "cell_type": "code",
      "source": [
        "def image_summarize(img_base64, prompt):\n",
        "  \"\"\"Make image summary\"\"\"\n",
        "  chat = ChatGroq(model = \"meta-llama/llama-4-scout-17b-16e-instruct\", max_tokens = 1024)\n",
        "\n",
        "  msg = chat.invoke (\n",
        "      [\n",
        "          HumanMessage(\n",
        "              content = [\n",
        "                  {\"type\": \"text\", \"text\": prompt},\n",
        "                  {\n",
        "                      \"type\": \"image_url\",\n",
        "                      \"image_url\": {\n",
        "                          \"url\": f\"data:image/jpeg;base64,{img_base64}\"\n",
        "                      }\n",
        "                  },\n",
        "              ]\n",
        "          )\n",
        "      ]\n",
        "  )\n",
        "  return msg.content"
      ],
      "metadata": {
        "id": "jue5cjH9aKoz"
      },
      "execution_count": 74,
      "outputs": []
    },
    {
      "cell_type": "code",
      "source": [
        "fpath = \"/content/extracted_data/figure-10-10.jpg\""
      ],
      "metadata": {
        "id": "v0Zwj_xEdLSw"
      },
      "execution_count": 76,
      "outputs": []
    },
    {
      "cell_type": "code",
      "source": [
        "def generate_img_summaries(path):\n",
        "  \"\"\"\n",
        "  Generate image summaries and base64 encoded strings for images\n",
        "  path: Path to list of .jpg files extracted by Unstructured\n",
        "  \"\"\"\n",
        "\n",
        "  img_base64_list = []\n",
        "\n",
        "  img_summaries = []\n",
        "\n",
        "  prompt = \"\"\" Summarize the image.\n",
        "  \"\"\"\n",
        "\n",
        "  base64_image = encode_image(path)\n",
        "\n",
        "  img_base64_list.append(base64_image)\n",
        "\n",
        "  img_summaries.append(image_summarize(base64_image, prompt))\n",
        "\n",
        "  return img_summaries, img_base64_list"
      ],
      "metadata": {
        "id": "OuzzHJx4b8Ef"
      },
      "execution_count": 75,
      "outputs": []
    },
    {
      "cell_type": "code",
      "source": [
        "generate_img_summaries(fpath)"
      ],
      "metadata": {
        "id": "9SnMHCqmdQNX",
        "outputId": "e51bf0f5-ee2a-4c85-cd85-ab31a901c876",
        "colab": {
          "base_uri": "https://localhost:8080/"
        }
      },
      "execution_count": 77,
      "outputs": [
        {
          "output_type": "execute_result",
          "data": {
            "text/plain": [
              "(['The image presents a scatter plot illustrating the relationship between two variables, with the x-axis labeled \"ALTI\" and the y-axis unlabeled but marked with values ranging from 0x to 18x. The plot features a dotted gray line representing a regression analysis, accompanied by a red dashed line encircling a data point and an equation for the line of best fit.\\n\\n**Key Features:**\\n\\n*   **Data Points:** The plot contains numerous blue dots, each representing a data point labeled with a unique abbreviation (e.g., \"ADBE,\" \"MDB,\" \"SNOW\").\\n*   **Regression Line:** A dotted gray line runs through the data points, indicating a positive correlation between the variables.\\n*   **Equation and R-Squared Value:** The equation for the line of best fit is provided as \"y = 29.46\" with an R-squared value of \"R^2 =\", although the latter is incomplete.\\n*   **Red Dashed Line:** A red dashed line encircles a specific data point, drawing attention to it.\\n\\n**Overall Impression:**\\n\\nThe scatter plot appears to be analyzing the performance of various companies, likely in the technology or software sector, given the abbreviations used (e.g., \"ADBE\" for Adobe). The plot suggests a positive correlation between the variables, with most data points clustering around the regression line. The red dashed line highlights a particular company, possibly indicating exceptional performance or an outlier.'],\n",
              " ['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'])"
            ]
          },
          "metadata": {},
          "execution_count": 77
        }
      ]
    }
  ]
}